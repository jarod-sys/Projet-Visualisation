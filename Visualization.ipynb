{
 "cells": [
  {
   "cell_type": "code",
   "execution_count": 2,
   "id": "85543688",
   "metadata": {},
   "outputs": [],
   "source": [
    "from utils_visualization import*"
   ]
  },
  {
   "cell_type": "markdown",
   "id": "4eb4d3c1",
   "metadata": {},
   "source": [
    "# Generate data"
   ]
  },
  {
   "cell_type": "markdown",
   "id": "187330a5",
   "metadata": {},
   "source": [
    "# Preprocessing"
   ]
  },
  {
   "cell_type": "code",
   "execution_count": 3,
   "id": "61a20597",
   "metadata": {},
   "outputs": [
    {
     "name": "stdout",
     "output_type": "stream",
     "text": [
      "Index(['Case Number', 'Date', 'Year', 'Type', 'Country', 'Area', 'Location',\n",
      "       'Activity', 'Name', 'Sex', 'Age', 'Injury', 'Time', 'Species',\n",
      "       'Investigator-Source', 'pdf', 'href-formula', 'href', 'Case-Number',\n",
      "       'original-order', 'latitude', 'longitude', 'fatal'],\n",
      "      dtype='object')\n"
     ]
    }
   ],
   "source": [
    "name=\"dataNew/sharks\"\n",
    "data=generate_data(name_file=name)"
   ]
  },
  {
   "cell_type": "code",
   "execution_count": 4,
   "id": "0c43a040",
   "metadata": {
    "scrolled": true
   },
   "outputs": [
    {
     "data": {
      "text/html": [
       "<div>\n",
       "<style scoped>\n",
       "    .dataframe tbody tr th:only-of-type {\n",
       "        vertical-align: middle;\n",
       "    }\n",
       "\n",
       "    .dataframe tbody tr th {\n",
       "        vertical-align: top;\n",
       "    }\n",
       "\n",
       "    .dataframe thead th {\n",
       "        text-align: right;\n",
       "    }\n",
       "</style>\n",
       "<table border=\"1\" class=\"dataframe\">\n",
       "  <thead>\n",
       "    <tr style=\"text-align: right;\">\n",
       "      <th></th>\n",
       "      <th>Date</th>\n",
       "      <th>Year</th>\n",
       "      <th>Sex</th>\n",
       "      <th>Age</th>\n",
       "      <th>Time</th>\n",
       "      <th>Activity</th>\n",
       "      <th>Injury</th>\n",
       "      <th>Type</th>\n",
       "      <th>Country</th>\n",
       "      <th>Area</th>\n",
       "      <th>Location</th>\n",
       "      <th>Species</th>\n",
       "      <th>latitude</th>\n",
       "      <th>longitude</th>\n",
       "      <th>fatal</th>\n",
       "    </tr>\n",
       "  </thead>\n",
       "  <tbody>\n",
       "    <tr>\n",
       "      <th>0</th>\n",
       "      <td>27-Aug-2019</td>\n",
       "      <td>2019</td>\n",
       "      <td>M</td>\n",
       "      <td>40</td>\n",
       "      <td>11h55</td>\n",
       "      <td>Surfing</td>\n",
       "      <td>Hand and calf bitten when he jumped off surfbo...</td>\n",
       "      <td>Provoked</td>\n",
       "      <td>USA</td>\n",
       "      <td>Florida</td>\n",
       "      <td>New Smyrna Beach, Volusia County</td>\n",
       "      <td>6.5' shark</td>\n",
       "      <td>29.025819</td>\n",
       "      <td>-80.926998</td>\n",
       "      <td>N</td>\n",
       "    </tr>\n",
       "    <tr>\n",
       "      <th>1</th>\n",
       "      <td>21-Aug-2019</td>\n",
       "      <td>2019</td>\n",
       "      <td>M</td>\n",
       "      <td>11</td>\n",
       "      <td>09h00</td>\n",
       "      <td>Wading</td>\n",
       "      <td>Foot bitten</td>\n",
       "      <td>Unprovoked</td>\n",
       "      <td>USA</td>\n",
       "      <td>Florida</td>\n",
       "      <td>Fort Lauderdale, Broward County</td>\n",
       "      <td></td>\n",
       "      <td>26.122439</td>\n",
       "      <td>-80.137317</td>\n",
       "      <td>N</td>\n",
       "    </tr>\n",
       "    <tr>\n",
       "      <th>2</th>\n",
       "      <td>20-Aug-2019</td>\n",
       "      <td>2019</td>\n",
       "      <td>F</td>\n",
       "      <td>26</td>\n",
       "      <td>08h00</td>\n",
       "      <td>Swimming</td>\n",
       "      <td>Injury to lower back and right hip</td>\n",
       "      <td>Unprovoked</td>\n",
       "      <td>USA</td>\n",
       "      <td>Hawaii</td>\n",
       "      <td>Napoopoo Park in Kealakekua Bay, The Big Island</td>\n",
       "      <td></td>\n",
       "      <td>19.478244</td>\n",
       "      <td>-155.925927</td>\n",
       "      <td>N</td>\n",
       "    </tr>\n",
       "    <tr>\n",
       "      <th>3</th>\n",
       "      <td>16-Aug-2019</td>\n",
       "      <td>2019</td>\n",
       "      <td>M</td>\n",
       "      <td>9</td>\n",
       "      <td>11h00</td>\n",
       "      <td>Wading</td>\n",
       "      <td>Puncture marks to lower leg</td>\n",
       "      <td>Unprovoked</td>\n",
       "      <td>USA</td>\n",
       "      <td>Florida</td>\n",
       "      <td>New Smyrna Beach, Volusia County</td>\n",
       "      <td></td>\n",
       "      <td>29.025819</td>\n",
       "      <td>-80.926998</td>\n",
       "      <td>N</td>\n",
       "    </tr>\n",
       "    <tr>\n",
       "      <th>4</th>\n",
       "      <td>11-Aug-2019</td>\n",
       "      <td>2019</td>\n",
       "      <td>M</td>\n",
       "      <td>16</td>\n",
       "      <td>19h30</td>\n",
       "      <td>Surfing</td>\n",
       "      <td>No injury, board damaged</td>\n",
       "      <td>Unprovoked</td>\n",
       "      <td>USA</td>\n",
       "      <td>Hawaii</td>\n",
       "      <td>Makaha Beach, Oahu</td>\n",
       "      <td>10' to 12' shark</td>\n",
       "      <td>21.476358</td>\n",
       "      <td>-158.220366</td>\n",
       "      <td>N</td>\n",
       "    </tr>\n",
       "    <tr>\n",
       "      <th>...</th>\n",
       "      <td>...</td>\n",
       "      <td>...</td>\n",
       "      <td>...</td>\n",
       "      <td>...</td>\n",
       "      <td>...</td>\n",
       "      <td>...</td>\n",
       "      <td>...</td>\n",
       "      <td>...</td>\n",
       "      <td>...</td>\n",
       "      <td>...</td>\n",
       "      <td>...</td>\n",
       "      <td>...</td>\n",
       "      <td>...</td>\n",
       "      <td>...</td>\n",
       "      <td>...</td>\n",
       "    </tr>\n",
       "    <tr>\n",
       "      <th>6443</th>\n",
       "      <td>Before 1903</td>\n",
       "      <td>0000</td>\n",
       "      <td>M</td>\n",
       "      <td></td>\n",
       "      <td></td>\n",
       "      <td>Diving</td>\n",
       "      <td>FATAL</td>\n",
       "      <td>Unprovoked</td>\n",
       "      <td>AUSTRALIA</td>\n",
       "      <td>Western Australia</td>\n",
       "      <td>Roebuck Bay</td>\n",
       "      <td></td>\n",
       "      <td>-18.085833</td>\n",
       "      <td>122.283056</td>\n",
       "      <td>Y</td>\n",
       "    </tr>\n",
       "    <tr>\n",
       "      <th>6444</th>\n",
       "      <td>Before 1903</td>\n",
       "      <td>0000</td>\n",
       "      <td>M</td>\n",
       "      <td></td>\n",
       "      <td></td>\n",
       "      <td>Pearl diving</td>\n",
       "      <td>FATAL</td>\n",
       "      <td>Unprovoked</td>\n",
       "      <td>AUSTRALIA</td>\n",
       "      <td>Western Australia</td>\n",
       "      <td>Lake Darlot, Shire Of Leonora, Western Austral...</td>\n",
       "      <td></td>\n",
       "      <td>-27.672817</td>\n",
       "      <td>121.62831</td>\n",
       "      <td>Y</td>\n",
       "    </tr>\n",
       "    <tr>\n",
       "      <th>6445</th>\n",
       "      <td>1900-1905</td>\n",
       "      <td>0000</td>\n",
       "      <td>M</td>\n",
       "      <td></td>\n",
       "      <td></td>\n",
       "      <td>Swimming</td>\n",
       "      <td>FATAL</td>\n",
       "      <td>Unprovoked</td>\n",
       "      <td>USA</td>\n",
       "      <td>North Carolina</td>\n",
       "      <td>Ocracoke Inlet</td>\n",
       "      <td></td>\n",
       "      <td>35.086105</td>\n",
       "      <td>-76.033389</td>\n",
       "      <td>Y</td>\n",
       "    </tr>\n",
       "    <tr>\n",
       "      <th>6446</th>\n",
       "      <td>1883-1889</td>\n",
       "      <td>0000</td>\n",
       "      <td>M</td>\n",
       "      <td></td>\n",
       "      <td></td>\n",
       "      <td></td>\n",
       "      <td>FATAL</td>\n",
       "      <td>Unprovoked</td>\n",
       "      <td>PANAMA</td>\n",
       "      <td></td>\n",
       "      <td>Panama Bay 8ºN, 79ºW</td>\n",
       "      <td></td>\n",
       "      <td>Missing</td>\n",
       "      <td>Missing</td>\n",
       "      <td>Y</td>\n",
       "    </tr>\n",
       "    <tr>\n",
       "      <th>6447</th>\n",
       "      <td>1845-1853</td>\n",
       "      <td>0000</td>\n",
       "      <td>M</td>\n",
       "      <td>15</td>\n",
       "      <td></td>\n",
       "      <td>Swimming</td>\n",
       "      <td>FATAL. \"Shark bit him in half, carrying away t...</td>\n",
       "      <td>Unprovoked</td>\n",
       "      <td>CEYLON (SRI LANKA)</td>\n",
       "      <td>Eastern Province</td>\n",
       "      <td>Below the English fort, Trincomalee</td>\n",
       "      <td></td>\n",
       "      <td>8.577278</td>\n",
       "      <td>81.243279</td>\n",
       "      <td>Y</td>\n",
       "    </tr>\n",
       "  </tbody>\n",
       "</table>\n",
       "<p>6448 rows × 15 columns</p>\n",
       "</div>"
      ],
      "text/plain": [
       "             Date  Year Sex Age   Time      Activity  \\\n",
       "0     27-Aug-2019  2019   M  40  11h55       Surfing   \n",
       "1     21-Aug-2019  2019   M  11  09h00        Wading   \n",
       "2     20-Aug-2019  2019   F  26  08h00      Swimming   \n",
       "3     16-Aug-2019  2019   M   9  11h00        Wading   \n",
       "4     11-Aug-2019  2019   M  16  19h30       Surfing   \n",
       "...           ...   ...  ..  ..    ...           ...   \n",
       "6443  Before 1903  0000   M                   Diving   \n",
       "6444  Before 1903  0000   M             Pearl diving   \n",
       "6445    1900-1905  0000   M                 Swimming   \n",
       "6446    1883-1889  0000   M                            \n",
       "6447    1845-1853  0000   M  15             Swimming   \n",
       "\n",
       "                                                 Injury        Type  \\\n",
       "0     Hand and calf bitten when he jumped off surfbo...    Provoked   \n",
       "1                                           Foot bitten  Unprovoked   \n",
       "2                    Injury to lower back and right hip  Unprovoked   \n",
       "3                           Puncture marks to lower leg  Unprovoked   \n",
       "4                              No injury, board damaged  Unprovoked   \n",
       "...                                                 ...         ...   \n",
       "6443                                              FATAL  Unprovoked   \n",
       "6444                                              FATAL  Unprovoked   \n",
       "6445                                              FATAL  Unprovoked   \n",
       "6446                                              FATAL  Unprovoked   \n",
       "6447  FATAL. \"Shark bit him in half, carrying away t...  Unprovoked   \n",
       "\n",
       "                 Country               Area  \\\n",
       "0                    USA            Florida   \n",
       "1                    USA            Florida   \n",
       "2                    USA             Hawaii   \n",
       "3                    USA            Florida   \n",
       "4                    USA             Hawaii   \n",
       "...                  ...                ...   \n",
       "6443           AUSTRALIA  Western Australia   \n",
       "6444           AUSTRALIA  Western Australia   \n",
       "6445                 USA     North Carolina   \n",
       "6446              PANAMA                      \n",
       "6447  CEYLON (SRI LANKA)   Eastern Province   \n",
       "\n",
       "                                               Location           Species  \\\n",
       "0                      New Smyrna Beach, Volusia County        6.5' shark   \n",
       "1                       Fort Lauderdale, Broward County                     \n",
       "2       Napoopoo Park in Kealakekua Bay, The Big Island                     \n",
       "3                      New Smyrna Beach, Volusia County                     \n",
       "4                                    Makaha Beach, Oahu  10' to 12' shark   \n",
       "...                                                 ...               ...   \n",
       "6443                                        Roebuck Bay                     \n",
       "6444  Lake Darlot, Shire Of Leonora, Western Austral...                     \n",
       "6445                                     Ocracoke Inlet                     \n",
       "6446                               Panama Bay 8ºN, 79ºW                     \n",
       "6447                Below the English fort, Trincomalee                     \n",
       "\n",
       "       latitude   longitude fatal  \n",
       "0     29.025819  -80.926998     N  \n",
       "1     26.122439  -80.137317     N  \n",
       "2     19.478244 -155.925927     N  \n",
       "3     29.025819  -80.926998     N  \n",
       "4     21.476358 -158.220366     N  \n",
       "...         ...         ...   ...  \n",
       "6443 -18.085833  122.283056     Y  \n",
       "6444 -27.672817   121.62831     Y  \n",
       "6445  35.086105  -76.033389     Y  \n",
       "6446    Missing     Missing     Y  \n",
       "6447   8.577278   81.243279     Y  \n",
       "\n",
       "[6448 rows x 15 columns]"
      ]
     },
     "execution_count": 4,
     "metadata": {},
     "output_type": "execute_result"
    }
   ],
   "source": [
    "sub_df=data[[\"Date\",\"Year\",\"Sex\",\"Age\",\"Time\",'Activity','Injury','Type','Country', 'Area', 'Location','Species','latitude', 'longitude', 'fatal']].copy()\n",
    "sub_df"
   ]
  },
  {
   "cell_type": "code",
   "execution_count": 5,
   "id": "0c49986a",
   "metadata": {},
   "outputs": [
    {
     "data": {
      "text/html": [
       "<div>\n",
       "<style scoped>\n",
       "    .dataframe tbody tr th:only-of-type {\n",
       "        vertical-align: middle;\n",
       "    }\n",
       "\n",
       "    .dataframe tbody tr th {\n",
       "        vertical-align: top;\n",
       "    }\n",
       "\n",
       "    .dataframe thead th {\n",
       "        text-align: right;\n",
       "    }\n",
       "</style>\n",
       "<table border=\"1\" class=\"dataframe\">\n",
       "  <thead>\n",
       "    <tr style=\"text-align: right;\">\n",
       "      <th></th>\n",
       "      <th>Date</th>\n",
       "      <th>Year</th>\n",
       "      <th>Sex</th>\n",
       "      <th>Age</th>\n",
       "      <th>Time</th>\n",
       "      <th>Activity</th>\n",
       "      <th>Injury</th>\n",
       "      <th>Type</th>\n",
       "      <th>Country</th>\n",
       "      <th>Area</th>\n",
       "      <th>Location</th>\n",
       "      <th>Species</th>\n",
       "      <th>latitude</th>\n",
       "      <th>longitude</th>\n",
       "      <th>fatal</th>\n",
       "    </tr>\n",
       "  </thead>\n",
       "  <tbody>\n",
       "    <tr>\n",
       "      <th>count</th>\n",
       "      <td>6448</td>\n",
       "      <td>6450</td>\n",
       "      <td>7013</td>\n",
       "      <td>9310</td>\n",
       "      <td>9838</td>\n",
       "      <td>7000</td>\n",
       "      <td>6477</td>\n",
       "      <td>6452</td>\n",
       "      <td>6498</td>\n",
       "      <td>6911</td>\n",
       "      <td>6494</td>\n",
       "      <td>9359</td>\n",
       "      <td>6448</td>\n",
       "      <td>6448</td>\n",
       "      <td>7065</td>\n",
       "    </tr>\n",
       "    <tr>\n",
       "      <th>unique</th>\n",
       "      <td>5551</td>\n",
       "      <td>253</td>\n",
       "      <td>8</td>\n",
       "      <td>155</td>\n",
       "      <td>368</td>\n",
       "      <td>1546</td>\n",
       "      <td>3832</td>\n",
       "      <td>12</td>\n",
       "      <td>215</td>\n",
       "      <td>844</td>\n",
       "      <td>4424</td>\n",
       "      <td>1578</td>\n",
       "      <td>3315</td>\n",
       "      <td>3304</td>\n",
       "      <td>9</td>\n",
       "    </tr>\n",
       "    <tr>\n",
       "      <th>top</th>\n",
       "      <td>1957</td>\n",
       "      <td>2015</td>\n",
       "      <td>M</td>\n",
       "      <td>Missing</td>\n",
       "      <td>Missing</td>\n",
       "      <td>Surfing</td>\n",
       "      <td>FATAL</td>\n",
       "      <td>Unprovoked</td>\n",
       "      <td>USA</td>\n",
       "      <td>Florida</td>\n",
       "      <td>New Smyrna Beach, Volusia County</td>\n",
       "      <td>Missing</td>\n",
       "      <td>Missing</td>\n",
       "      <td>Missing</td>\n",
       "      <td>N</td>\n",
       "    </tr>\n",
       "    <tr>\n",
       "      <th>freq</th>\n",
       "      <td>11</td>\n",
       "      <td>141</td>\n",
       "      <td>5209</td>\n",
       "      <td>2862</td>\n",
       "      <td>3390</td>\n",
       "      <td>1009</td>\n",
       "      <td>811</td>\n",
       "      <td>4703</td>\n",
       "      <td>2310</td>\n",
       "      <td>1071</td>\n",
       "      <td>172</td>\n",
       "      <td>2911</td>\n",
       "      <td>201</td>\n",
       "      <td>201</td>\n",
       "      <td>4430</td>\n",
       "    </tr>\n",
       "  </tbody>\n",
       "</table>\n",
       "</div>"
      ],
      "text/plain": [
       "        Date  Year   Sex      Age     Time Activity Injury        Type  \\\n",
       "count   6448  6450  7013     9310     9838     7000   6477        6452   \n",
       "unique  5551   253     8      155      368     1546   3832          12   \n",
       "top     1957  2015     M  Missing  Missing  Surfing  FATAL  Unprovoked   \n",
       "freq      11   141  5209     2862     3390     1009    811        4703   \n",
       "\n",
       "       Country     Area                          Location  Species latitude  \\\n",
       "count     6498     6911                              6494     9359     6448   \n",
       "unique     215      844                              4424     1578     3315   \n",
       "top        USA  Florida  New Smyrna Beach, Volusia County  Missing  Missing   \n",
       "freq      2310     1071                               172     2911      201   \n",
       "\n",
       "       longitude fatal  \n",
       "count       6448  7065  \n",
       "unique      3304     9  \n",
       "top      Missing     N  \n",
       "freq         201  4430  "
      ]
     },
     "execution_count": 5,
     "metadata": {},
     "output_type": "execute_result"
    }
   ],
   "source": [
    "#replace '' by 'missing'\n",
    "sub_df=fill_missing_value(data=sub_df)\n",
    "sub_df.describe()"
   ]
  },
  {
   "cell_type": "code",
   "execution_count": 6,
   "id": "a9c1bce2",
   "metadata": {},
   "outputs": [
    {
     "name": "stdout",
     "output_type": "stream",
     "text": [
      "<class 'pandas.core.frame.DataFrame'>\n",
      "Index: 11420 entries, 0 to 5170\n",
      "Data columns (total 15 columns):\n",
      " #   Column     Non-Null Count  Dtype \n",
      "---  ------     --------------  ----- \n",
      " 0   Date       6448 non-null   object\n",
      " 1   Year       6450 non-null   object\n",
      " 2   Sex        7013 non-null   object\n",
      " 3   Age        9310 non-null   object\n",
      " 4   Time       9838 non-null   object\n",
      " 5   Activity   7000 non-null   object\n",
      " 6   Injury     6477 non-null   object\n",
      " 7   Type       6452 non-null   object\n",
      " 8   Country    6498 non-null   object\n",
      " 9   Area       6911 non-null   object\n",
      " 10  Location   6494 non-null   object\n",
      " 11  Species    9359 non-null   object\n",
      " 12  latitude   6448 non-null   object\n",
      " 13  longitude  6448 non-null   object\n",
      " 14  fatal      7065 non-null   object\n",
      "dtypes: object(15)\n",
      "memory usage: 1.6+ MB\n"
     ]
    }
   ],
   "source": [
    "sub_df.info()"
   ]
  },
  {
   "cell_type": "markdown",
   "id": "9dea40d2",
   "metadata": {},
   "source": [
    "# Transformation du temps"
   ]
  },
  {
   "cell_type": "code",
   "execution_count": 7,
   "id": "9ea19579",
   "metadata": {},
   "outputs": [],
   "source": [
    "new_timeSeries,time_in_second,formats=get_second_from_format_hms(timeSeries=sub_df.Time)\n",
    "sub_df.Time=new_timeSeries"
   ]
  },
  {
   "cell_type": "markdown",
   "id": "b83fd465",
   "metadata": {},
   "source": [
    "# Transformation de l'Age"
   ]
  },
  {
   "cell_type": "code",
   "execution_count": 8,
   "id": "8a6fa1e0",
   "metadata": {},
   "outputs": [
    {
     "ename": "TypeError",
     "evalue": "object of type 'float' has no len()",
     "output_type": "error",
     "traceback": [
      "\u001b[1;31m---------------------------------------------------------------------------\u001b[0m",
      "\u001b[1;31mTypeError\u001b[0m                                 Traceback (most recent call last)",
      "Cell \u001b[1;32mIn[8], line 2\u001b[0m\n\u001b[0;32m      1\u001b[0m sub_df\u001b[38;5;241m.\u001b[39mAge\u001b[38;5;241m=\u001b[39msub_df\u001b[38;5;241m.\u001b[39mAge\u001b[38;5;241m.\u001b[39mapply(remove_whitespace)\n\u001b[1;32m----> 2\u001b[0m new_AgeSeries\u001b[38;5;241m=\u001b[39mfilter_Age(data\u001b[38;5;241m=\u001b[39msub_df)\n\u001b[0;32m      3\u001b[0m sub_df\u001b[38;5;241m.\u001b[39mAge\u001b[38;5;241m=\u001b[39mnew_AgeSeries\n",
      "File \u001b[1;32mF:\\Persona-jk-sys\\Documents Namur\\Cours\\Cours namur\\Data visualization\\Projet-Visualisation\\utils_visualization.py:215\u001b[0m, in \u001b[0;36mfilter_Age\u001b[1;34m(data, *args)\u001b[0m\n\u001b[0;32m    213\u001b[0m \u001b[38;5;28;01mfor\u001b[39;00m value \u001b[38;5;129;01min\u001b[39;00m data\u001b[38;5;241m.\u001b[39mAge:\n\u001b[0;32m    214\u001b[0m     \u001b[38;5;28;01mif\u001b[39;00m value\u001b[38;5;241m!=\u001b[39m\u001b[38;5;124m\"\u001b[39m\u001b[38;5;124mMissing\u001b[39m\u001b[38;5;124m\"\u001b[39m:\n\u001b[1;32m--> 215\u001b[0m         \u001b[38;5;28;01mif\u001b[39;00m \u001b[38;5;28mlen\u001b[39m(value)\u001b[38;5;241m>\u001b[39m\u001b[38;5;241m=\u001b[39m\u001b[38;5;241m2\u001b[39m:\n\u001b[0;32m    216\u001b[0m             \u001b[38;5;28;01mfor\u001b[39;00m age \u001b[38;5;129;01min\u001b[39;00m AGES:\n\u001b[0;32m    217\u001b[0m                 \u001b[38;5;28;01mif\u001b[39;00m value\u001b[38;5;241m.\u001b[39mfind(\u001b[38;5;124mf\u001b[39m\u001b[38;5;124m\"\u001b[39m\u001b[38;5;132;01m{\u001b[39;00mage\u001b[38;5;132;01m}\u001b[39;00m\u001b[38;5;124m\"\u001b[39m)\u001b[38;5;241m!=\u001b[39m\u001b[38;5;241m-\u001b[39m\u001b[38;5;241m1\u001b[39m:\n\u001b[0;32m    218\u001b[0m                     \u001b[38;5;66;03m#print(value)\u001b[39;00m\n",
      "\u001b[1;31mTypeError\u001b[0m: object of type 'float' has no len()"
     ]
    }
   ],
   "source": [
    "sub_df.Age=sub_df.Age.apply(remove_whitespace)\n",
    "new_AgeSeries=filter_Age(data=sub_df)\n",
    "sub_df.Age=new_AgeSeries"
   ]
  },
  {
   "cell_type": "markdown",
   "id": "1f9ccbe4",
   "metadata": {},
   "source": [
    "# Transformation de fatal"
   ]
  },
  {
   "cell_type": "code",
   "execution_count": null,
   "id": "b8bf9a14",
   "metadata": {},
   "outputs": [],
   "source": [
    "new_fatalSeries=filter_fatal(data=sub_df)\n",
    "sub_df.fatal=new_fatalSeries"
   ]
  },
  {
   "cell_type": "markdown",
   "id": "034ccace",
   "metadata": {},
   "source": [
    "# Transformation du Sex"
   ]
  },
  {
   "cell_type": "code",
   "execution_count": null,
   "id": "4922af4b",
   "metadata": {},
   "outputs": [],
   "source": [
    "new_SexSeries=filter_sex(data=sub_df)\n",
    "sub_df.Sex=new_SexSeries"
   ]
  },
  {
   "cell_type": "markdown",
   "id": "ab61bede",
   "metadata": {},
   "source": [
    "# Transformation Year"
   ]
  },
  {
   "cell_type": "code",
   "execution_count": null,
   "id": "8b155efc",
   "metadata": {},
   "outputs": [],
   "source": [
    "new_YearSeries=filter_year(data=sub_df)\n",
    "sub_df.Year=new_YearSeries"
   ]
  },
  {
   "cell_type": "markdown",
   "id": "cd8d70a9",
   "metadata": {},
   "source": [
    "# Transformation Month"
   ]
  },
  {
   "cell_type": "code",
   "execution_count": null,
   "id": "282d6b62",
   "metadata": {},
   "outputs": [],
   "source": [
    "month=filter_month(data=sub_df)\n",
    "sub_df[\"Months\"]=month"
   ]
  },
  {
   "cell_type": "markdown",
   "id": "f3c85d03",
   "metadata": {},
   "source": [
    "# Transformation du jour"
   ]
  },
  {
   "cell_type": "code",
   "execution_count": null,
   "id": "5303b7cc",
   "metadata": {},
   "outputs": [],
   "source": [
    "jour=filter_jour(data=sub_df)  \n",
    "sub_df[\"Days\"]=jour"
   ]
  },
  {
   "cell_type": "markdown",
   "id": "00c45a62",
   "metadata": {},
   "source": [
    "## Transformation of hours"
   ]
  },
  {
   "cell_type": "code",
   "execution_count": null,
   "id": "2d8dc36a",
   "metadata": {},
   "outputs": [],
   "source": [
    "hours=get_hours(Month=sub_df[\"Months\"],Year=sub_df[\"Year\"],Day=sub_df[\"Days\"],Time_in_second=time_in_second)\n",
    "sub_df[\"Hours\"]=hours"
   ]
  },
  {
   "cell_type": "markdown",
   "id": "162fef32",
   "metadata": {},
   "source": [
    "# New data"
   ]
  },
  {
   "cell_type": "code",
   "execution_count": null,
   "id": "da4f963e",
   "metadata": {},
   "outputs": [],
   "source": [
    "new_sub_df=sub_df.drop(columns=[\"Date\"])\n",
    "new_sub_df"
   ]
  },
  {
   "cell_type": "code",
   "execution_count": null,
   "id": "422af286",
   "metadata": {},
   "outputs": [],
   "source": [
    "new_sub_df.describe()"
   ]
  },
  {
   "cell_type": "code",
   "execution_count": null,
   "id": "8d1b3ac3",
   "metadata": {},
   "outputs": [],
   "source": [
    "df_save=new_sub_df.drop(columns=[\"Hours\"])\n",
    "df_save.to_excel(\"dataNew/New_shark.xlsx\",index=False)"
   ]
  },
  {
   "cell_type": "code",
   "execution_count": null,
   "id": "bdc11bf1",
   "metadata": {},
   "outputs": [],
   "source": [
    "df=filter_tyte_TimeStamp(data=new_sub_df)\n",
    "df"
   ]
  },
  {
   "cell_type": "code",
   "execution_count": null,
   "id": "6dc3b5ff",
   "metadata": {},
   "outputs": [],
   "source": [
    "df.loc[3]"
   ]
  },
  {
   "cell_type": "markdown",
   "id": "b1f5e6a9",
   "metadata": {},
   "source": [
    "# Missing value"
   ]
  },
  {
   "cell_type": "code",
   "execution_count": null,
   "id": "a1f6d7c9",
   "metadata": {},
   "outputs": [],
   "source": [
    "def unique_value(data=None,col=None):\n",
    "    values=data[col].values.tolist()\n",
    "    frame={\"unique\":values,\"count\":[1 for i in range(len(values))]}\n",
    "    df=pd.DataFrame(frame)\n",
    "    sd=df.groupby(by=\"unique\").count().reset_index(drop=False)\n",
    "    missing=sd[sd.unique==\"Missing\"]\n",
    "    wrong_format=sd[sd.unique==\"Missing\"]\n",
    "    print(f\"Missing:{missing['count']}\\n\\nMissing:{wrong_format['count']}\")"
   ]
  },
  {
   "cell_type": "code",
   "execution_count": null,
   "id": "6024ffc9",
   "metadata": {},
   "outputs": [],
   "source": [
    "unique_value(data=new_sub_df,col=\"Months\")"
   ]
  },
  {
   "cell_type": "markdown",
   "id": "b577ef14",
   "metadata": {},
   "source": [
    "# Plot biblio"
   ]
  },
  {
   "cell_type": "markdown",
   "id": "f0cbf02b",
   "metadata": {},
   "source": [
    "## plot by year"
   ]
  },
  {
   "cell_type": "code",
   "execution_count": null,
   "id": "07c0e82f",
   "metadata": {
    "scrolled": false
   },
   "outputs": [],
   "source": [
    "temp=sub_df\n",
    "temp[\"Year\"]=temp[\"Year\"].apply(convert_str_to_float).copy()\n",
    "temp=temp[1999<temp.Year]\n",
    "fig=plt.figure(figsize=(25,12))\n",
    "sns.countplot(data=temp, y=\"Year\", hue=\"fatal\")"
   ]
  },
  {
   "cell_type": "code",
   "execution_count": null,
   "id": "b25f6fdc",
   "metadata": {},
   "outputs": [],
   "source": [
    "temp=sub_df\n",
    "temp[\"Year\"]=temp[\"Year\"].apply(convert_str_to_float).copy()\n",
    "temp=temp[1900<temp.Year]\n",
    "temp=temp.groupby(by=\"Year\").count().reset_index(drop=False)"
   ]
  },
  {
   "cell_type": "code",
   "execution_count": null,
   "id": "bcf7ac84",
   "metadata": {},
   "outputs": [],
   "source": [
    "fig=plt.figure(figsize=(20,12))\n",
    "sns.lineplot(data=temp,x=\"Year\",y=\"fatal\",color=\"r\")"
   ]
  },
  {
   "cell_type": "code",
   "execution_count": null,
   "id": "b1daf027",
   "metadata": {},
   "outputs": [],
   "source": [
    "months=list({'Jan':1,'Feb':2,'Mar':3,'Apr':4,\n",
    "            'May':5,'Jun':6,'Jul':7,'Aug':8,\n",
    "            'Sep':9,'Oct':10,'Nov':11,'Dec':12,\"Missing\":-1}.keys())\n",
    "months"
   ]
  },
  {
   "cell_type": "code",
   "execution_count": null,
   "id": "917d729d",
   "metadata": {},
   "outputs": [],
   "source": [
    "temp=sub_df\n",
    "temp=temp[1800<temp.Year][[\"Months\",\"fatal\"]].groupby(by=\"Months\").count().reset_index(drop=False)\n",
    "temp"
   ]
  },
  {
   "cell_type": "code",
   "execution_count": null,
   "id": "1cdf1595",
   "metadata": {},
   "outputs": [],
   "source": [
    "fig,ax=plt.subplots(figsize=(20,12))\n",
    "sns.countplot(data=sub_df,x=\"Months\",hue=\"fatal\",ax=ax, order=months)\n",
    "#xticks=ax.set_xticks(x+width,months)"
   ]
  },
  {
   "cell_type": "markdown",
   "id": "8fec9521",
   "metadata": {},
   "source": [
    "##  plot Age et sex"
   ]
  },
  {
   "cell_type": "code",
   "execution_count": null,
   "id": "0523206f",
   "metadata": {},
   "outputs": [],
   "source": [
    "\n",
    "#Male\n",
    "temp=sub_df\n",
    "temp[\"Age\"]=temp[\"Age\"].apply(convert_str_to_float).copy()\n",
    "\n",
    "temp=temp[temp.Sex==\"Male\"][[\"Age\",\"fatal\"]].groupby(by=\"Age\").count().reset_index(drop=False)\n",
    "temp1=temp[0<temp.Age]\n",
    "\n",
    "#Female\n",
    "temp=sub_df\n",
    "temp[\"Age\"]=temp[\"Age\"].apply(convert_str_to_float).copy()\n",
    "temp=temp[temp.Sex==\"Female\"][[\"Age\",\"fatal\"]].groupby(by=\"Age\").count().reset_index(drop=False)\n",
    "temp2=temp[0<temp.Age]"
   ]
  },
  {
   "cell_type": "code",
   "execution_count": null,
   "id": "58aa6e55",
   "metadata": {},
   "outputs": [],
   "source": [
    "fig=plt.figure(figsize=(20,12))\n",
    "plt.plot(temp1.Age,temp1.fatal,color=\"r\")\n",
    "plt.plot(temp2.Age,temp2.fatal,color=\"b\")\n",
    "plt.legend([\"Male\",\"Female\"])\n",
    "plt.xlabel(\"Age\")\n",
    "plt.ylabel(\"Count\")"
   ]
  },
  {
   "cell_type": "markdown",
   "id": "b17cca75",
   "metadata": {},
   "source": [
    "## plot female and male"
   ]
  },
  {
   "cell_type": "code",
   "execution_count": null,
   "id": "1a5e7980",
   "metadata": {},
   "outputs": [],
   "source": [
    "#Male\n",
    "temp=sub_df\n",
    "temp[\"Year\"]=temp[\"Year\"].apply(convert_str_to_float).copy()\n",
    "\n",
    "temp=temp[temp.Sex==\"Male\"][[\"Year\",\"fatal\"]].groupby(by=\"Year\").count().reset_index(drop=False)\n",
    "temp1=temp[1800<temp.Year]\n",
    "\n",
    "#Female\n",
    "temp=sub_df\n",
    "temp[\"Year\"]=temp[\"Year\"].apply(convert_str_to_float).copy()\n",
    "temp=temp[temp.Sex==\"Female\"][[\"Year\",\"fatal\"]].groupby(by=\"Year\").count().reset_index(drop=False)\n",
    "temp2=temp[1800<temp.Year]"
   ]
  },
  {
   "cell_type": "code",
   "execution_count": null,
   "id": "8526b2e3",
   "metadata": {},
   "outputs": [],
   "source": [
    "temp=sub_df\n",
    "temp[\"Year\"]=temp[\"Year\"].apply(convert_str_to_float).copy()\n",
    "\n",
    "temp=temp[temp.fatal==\"Dead\"][[\"Year\",\"fatal\"]].groupby(by=\"Year\").count().reset_index(drop=False)\n",
    "temp=temp[1800<temp.Year]"
   ]
  },
  {
   "cell_type": "code",
   "execution_count": null,
   "id": "0991f6fd",
   "metadata": {},
   "outputs": [],
   "source": [
    "sum(temp.fatal)"
   ]
  },
  {
   "cell_type": "code",
   "execution_count": null,
   "id": "36fd749f",
   "metadata": {},
   "outputs": [],
   "source": [
    "#Numbre of attack\n",
    "sum(temp1.fatal)+sum(temp2.fatal)"
   ]
  },
  {
   "cell_type": "code",
   "execution_count": null,
   "id": "f57356f3",
   "metadata": {},
   "outputs": [],
   "source": [
    "fig=plt.figure(figsize=(20,12))\n",
    "plt.plot(temp1.Year,temp1.fatal,color=\"r\")\n",
    "plt.plot(temp2.Year,temp2.fatal,color=\"b\")\n",
    "plt.legend([\"Male\",\"Female\"])\n",
    "plt.xlabel(\"Year\")\n",
    "plt.ylabel(\"Count\")"
   ]
  },
  {
   "cell_type": "code",
   "execution_count": null,
   "id": "2042ae2b",
   "metadata": {},
   "outputs": [],
   "source": [
    "fig=plt.figure(figsize=(20,12))\n",
    "sns.histplot(data=sub_df,y=\"Sex\",hue=\"fatal\",multiple=\"stack\",binwidth=5)"
   ]
  },
  {
   "cell_type": "markdown",
   "id": "59f77a63",
   "metadata": {},
   "source": [
    "## plot location : Country and area"
   ]
  },
  {
   "cell_type": "code",
   "execution_count": null,
   "id": "7d3c58d0",
   "metadata": {},
   "outputs": [],
   "source": [
    "temp=sub_df\n",
    "temp=temp[[\"Country\",\"fatal\"]].groupby(by=\"Country\").count().reset_index(drop=False).sort_values(by=\"fatal\",ascending=False)\n",
    "temp=temp[100<temp.fatal].rename(columns={\"fatal\":\"Count\"})\n",
    "temp"
   ]
  },
  {
   "cell_type": "code",
   "execution_count": null,
   "id": "dd3e281f",
   "metadata": {},
   "outputs": [],
   "source": [
    "fig=plt.figure(figsize=(25,12))\n",
    "sns.barplot(data=temp, x=\"Country\",y=\"Count\")"
   ]
  },
  {
   "cell_type": "code",
   "execution_count": null,
   "id": "4e7fd7d0",
   "metadata": {},
   "outputs": [],
   "source": [
    "temp=sub_df\n",
    "temp=temp[[\"Area\",\"fatal\"]].groupby(by=\"Area\").count().reset_index(drop=False).sort_values(by=\"fatal\",ascending=False)\n",
    "temp=temp[100<temp.fatal]\n",
    "temp=temp.drop(462)\n",
    "temp"
   ]
  },
  {
   "cell_type": "code",
   "execution_count": null,
   "id": "f7d44ad2",
   "metadata": {},
   "outputs": [],
   "source": [
    "fig=plt.figure(figsize=(25,12))\n",
    "sns.barplot(data=temp, y=\"Area\",x=\"fatal\")"
   ]
  },
  {
   "cell_type": "markdown",
   "id": "71095edf",
   "metadata": {},
   "source": [
    "## plot Activity species and type"
   ]
  },
  {
   "cell_type": "code",
   "execution_count": null,
   "id": "69e06598",
   "metadata": {},
   "outputs": [],
   "source": [
    "temp=sub_df\n",
    "temp=temp[[\"Species\",\"fatal\"]].groupby(by=\"Species\").count().reset_index(drop=False).sort_values(by=\"fatal\",ascending=True)\n",
    "temp=temp[(21<temp.fatal) & (temp.fatal<500)]\n",
    "temp.shape"
   ]
  },
  {
   "cell_type": "code",
   "execution_count": null,
   "id": "23532de5",
   "metadata": {},
   "outputs": [],
   "source": [
    "fig=plt.figure(figsize=(25,12))\n",
    "sns.barplot(data=temp, y=\"Species\",x=\"fatal\")"
   ]
  },
  {
   "cell_type": "code",
   "execution_count": null,
   "id": "4f291976",
   "metadata": {},
   "outputs": [],
   "source": [
    "# creating an empty chart \n",
    "fig, ax= plt.subplots(figsize=(25,12)) \n",
    "# plotting using plt.stem \n",
    "ax.stem(temp['Species'], temp['fatal'], orientation='horizontal', basefmt=' ')\n",
    "plt.xlabel(\"Count\")\n",
    "plt.ylabel(\"Species\")"
   ]
  },
  {
   "cell_type": "code",
   "execution_count": null,
   "id": "b1f19874",
   "metadata": {},
   "outputs": [],
   "source": [
    "temp=sub_df\n",
    "temp=temp[[\"Activity\",\"fatal\"]].groupby(by=\"Activity\").count().reset_index(drop=False).sort_values(by=\"fatal\",ascending=False)\n",
    "temp=temp[90<temp.fatal]\n",
    "temp"
   ]
  },
  {
   "cell_type": "code",
   "execution_count": null,
   "id": "e4c79b51",
   "metadata": {},
   "outputs": [],
   "source": [
    "fig=plt.figure(figsize=(25,12))\n",
    "sns.barplot(data=temp, y=\"Activity\",x=\"fatal\")"
   ]
  },
  {
   "cell_type": "code",
   "execution_count": null,
   "id": "5ce23756",
   "metadata": {},
   "outputs": [],
   "source": [
    "temp=sub_df\n",
    "temp=temp[[\"Type\",\"fatal\"]].groupby(by=\"Type\").count().reset_index(drop=False).sort_values(by=\"fatal\",ascending=False)\n",
    "temp=temp[10<temp.fatal]\n",
    "temp"
   ]
  },
  {
   "cell_type": "code",
   "execution_count": null,
   "id": "9e6266c6",
   "metadata": {},
   "outputs": [],
   "source": [
    "fig=plt.figure(figsize=(25,12))\n",
    "sns.barplot(data=temp, y=\"Type\",x=\"fatal\")"
   ]
  },
  {
   "cell_type": "markdown",
   "id": "7f7e6a8e",
   "metadata": {},
   "source": [
    "## high dimension"
   ]
  },
  {
   "cell_type": "code",
   "execution_count": null,
   "id": "a1e646e9",
   "metadata": {},
   "outputs": [],
   "source": [
    "from sklearn.preprocessing import LabelEncoder"
   ]
  },
  {
   "cell_type": "code",
   "execution_count": null,
   "id": "e352068d",
   "metadata": {},
   "outputs": [],
   "source": [
    "# Create an instance of LabelEncoder\n",
    "le = LabelEncoder()"
   ]
  },
  {
   "cell_type": "markdown",
   "id": "547f1244",
   "metadata": {},
   "source": [
    "## Type"
   ]
  },
  {
   "cell_type": "code",
   "execution_count": null,
   "id": "fdba0b17",
   "metadata": {},
   "outputs": [],
   "source": [
    "temp=sub_df\n",
    "temp[\"Year\"]=temp[\"Year\"].apply(convert_str_to_float).copy()\n",
    "temp[\"Age\"]=temp[\"Age\"].apply(convert_str_to_float).copy()\n",
    "temp=temp[[\"Activity\",\"Type\",\"Year\",\"fatal\",\"Age\"]]\n",
    "mask=(1900<temp.Year) &(temp.Year<2019) & (0<temp.Age)\n",
    "temp=temp[mask]\n"
   ]
  },
  {
   "cell_type": "code",
   "execution_count": null,
   "id": "b13e2124",
   "metadata": {},
   "outputs": [],
   "source": [
    "fig, ax = plt.subplots(figsize=(25,12))\n",
    "sns.scatterplot(data=temp,x=\"Year\", y=\"Age\", hue=\"Type\",legend='auto',s=100,ax=ax)\n",
    "plt.show()"
   ]
  },
  {
   "cell_type": "markdown",
   "id": "876cbe75",
   "metadata": {},
   "source": [
    "## Species"
   ]
  },
  {
   "cell_type": "code",
   "execution_count": null,
   "id": "6900433d",
   "metadata": {},
   "outputs": [],
   "source": [
    "temp=sub_df\n",
    "temp[\"Year\"]=temp[\"Year\"].apply(convert_str_to_float).copy()\n",
    "temp[\"Age\"]=temp[\"Age\"].apply(convert_str_to_float).copy()\n",
    "temp=temp[[\"Species\",\"Type\",\"Year\",\"fatal\",\"Age\"]]\n",
    "mask=(1900<temp.Year) &(temp.Year<2019) & (0<temp.Age)\n",
    "temp=temp[mask]"
   ]
  },
  {
   "cell_type": "markdown",
   "id": "eda3420c",
   "metadata": {},
   "source": [
    "## Map carte"
   ]
  },
  {
   "cell_type": "code",
   "execution_count": null,
   "id": "c1dbfcbf",
   "metadata": {},
   "outputs": [],
   "source": [
    "import plotly.express as px\n",
    "import geopandas as gpd\n",
    "from shapely.geometry import Point"
   ]
  }
 ],
 "metadata": {
  "kernelspec": {
   "display_name": "Python 3 (ipykernel)",
   "language": "python",
   "name": "python3"
  },
  "language_info": {
   "codemirror_mode": {
    "name": "ipython",
    "version": 3
   },
   "file_extension": ".py",
   "mimetype": "text/x-python",
   "name": "python",
   "nbconvert_exporter": "python",
   "pygments_lexer": "ipython3",
   "version": "3.11.5"
  }
 },
 "nbformat": 4,
 "nbformat_minor": 5
}
