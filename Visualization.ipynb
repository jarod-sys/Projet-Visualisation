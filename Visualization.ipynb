{
 "cells": [
  {
   "cell_type": "code",
   "execution_count": 1,
   "id": "85543688",
   "metadata": {},
   "outputs": [],
   "source": [
    "from utils_visualization import*"
   ]
  },
  {
   "cell_type": "markdown",
   "id": "4eb4d3c1",
   "metadata": {},
   "source": [
    "# Generate data clean"
   ]
  },
  {
   "cell_type": "code",
   "execution_count": 2,
   "id": "1f860bbc",
   "metadata": {},
   "outputs": [],
   "source": [
    "data_clean=pd.read_excel('dataNew/sharks.xlsx')\n",
    "data_clean=data_clean.fillna(\"unknown\")"
   ]
  },
  {
   "cell_type": "code",
   "execution_count": 3,
   "id": "954a74ba",
   "metadata": {},
   "outputs": [],
   "source": [
    "data_clean[\"fatal\"]=data_clean[\"Fatal(Y/N)\"]\n",
    "data_clean=data_clean.drop(columns=[\"Fatal(Y/N)\"])"
   ]
  },
  {
   "cell_type": "markdown",
   "id": "187330a5",
   "metadata": {},
   "source": [
    "# Preprocessing"
   ]
  },
  {
   "cell_type": "code",
   "execution_count": null,
   "id": "61a20597",
   "metadata": {},
   "outputs": [],
   "source": [
    "name=\"data/sharks\"\n",
    "data=generate_data(name_file=name)"
   ]
  },
  {
   "cell_type": "code",
   "execution_count": 4,
   "id": "0c43a040",
   "metadata": {
    "scrolled": true
   },
   "outputs": [],
   "source": [
    "sub_df=data_clean[[\"Date\",\"Year\",\"Sex\",\"Age\",\"Time\",'Activity','Injury','Type','Country', 'Area', 'Location','Species','latitude', 'longitude','fatal']].copy()"
   ]
  },
  {
   "cell_type": "code",
   "execution_count": 5,
   "id": "0c49986a",
   "metadata": {},
   "outputs": [
    {
     "data": {
      "text/html": [
       "<div>\n",
       "<style scoped>\n",
       "    .dataframe tbody tr th:only-of-type {\n",
       "        vertical-align: middle;\n",
       "    }\n",
       "\n",
       "    .dataframe tbody tr th {\n",
       "        vertical-align: top;\n",
       "    }\n",
       "\n",
       "    .dataframe thead th {\n",
       "        text-align: right;\n",
       "    }\n",
       "</style>\n",
       "<table border=\"1\" class=\"dataframe\">\n",
       "  <thead>\n",
       "    <tr style=\"text-align: right;\">\n",
       "      <th></th>\n",
       "      <th>Date</th>\n",
       "      <th>Year</th>\n",
       "      <th>Sex</th>\n",
       "      <th>Age</th>\n",
       "      <th>Time</th>\n",
       "      <th>Activity</th>\n",
       "      <th>Injury</th>\n",
       "      <th>Type</th>\n",
       "      <th>Country</th>\n",
       "      <th>Area</th>\n",
       "      <th>Location</th>\n",
       "      <th>Species</th>\n",
       "      <th>latitude</th>\n",
       "      <th>longitude</th>\n",
       "      <th>fatal</th>\n",
       "    </tr>\n",
       "  </thead>\n",
       "  <tbody>\n",
       "    <tr>\n",
       "      <th>count</th>\n",
       "      <td>6448</td>\n",
       "      <td>6448</td>\n",
       "      <td>6448</td>\n",
       "      <td>6448</td>\n",
       "      <td>6448</td>\n",
       "      <td>6448</td>\n",
       "      <td>6448</td>\n",
       "      <td>6448</td>\n",
       "      <td>6448</td>\n",
       "      <td>6448</td>\n",
       "      <td>6448</td>\n",
       "      <td>6448</td>\n",
       "      <td>6448</td>\n",
       "      <td>6448</td>\n",
       "      <td>6448</td>\n",
       "    </tr>\n",
       "    <tr>\n",
       "      <th>unique</th>\n",
       "      <td>5551</td>\n",
       "      <td>252</td>\n",
       "      <td>7</td>\n",
       "      <td>153</td>\n",
       "      <td>367</td>\n",
       "      <td>1543</td>\n",
       "      <td>3830</td>\n",
       "      <td>11</td>\n",
       "      <td>214</td>\n",
       "      <td>843</td>\n",
       "      <td>4423</td>\n",
       "      <td>1576</td>\n",
       "      <td>3315</td>\n",
       "      <td>3304</td>\n",
       "      <td>7</td>\n",
       "    </tr>\n",
       "    <tr>\n",
       "      <th>top</th>\n",
       "      <td>1957</td>\n",
       "      <td>2015</td>\n",
       "      <td>M</td>\n",
       "      <td>Missing</td>\n",
       "      <td>Missing</td>\n",
       "      <td>Surfing</td>\n",
       "      <td>FATAL</td>\n",
       "      <td>Unprovoked</td>\n",
       "      <td>USA</td>\n",
       "      <td>Florida</td>\n",
       "      <td>New Smyrna Beach, Volusia County</td>\n",
       "      <td>Missing</td>\n",
       "      <td>Missing</td>\n",
       "      <td>Missing</td>\n",
       "      <td>N</td>\n",
       "    </tr>\n",
       "    <tr>\n",
       "      <th>freq</th>\n",
       "      <td>11</td>\n",
       "      <td>141</td>\n",
       "      <td>5209</td>\n",
       "      <td>2867</td>\n",
       "      <td>3390</td>\n",
       "      <td>1009</td>\n",
       "      <td>811</td>\n",
       "      <td>4703</td>\n",
       "      <td>2310</td>\n",
       "      <td>1071</td>\n",
       "      <td>172</td>\n",
       "      <td>2911</td>\n",
       "      <td>201</td>\n",
       "      <td>201</td>\n",
       "      <td>4430</td>\n",
       "    </tr>\n",
       "  </tbody>\n",
       "</table>\n",
       "</div>"
      ],
      "text/plain": [
       "        Date  Year   Sex      Age     Time Activity Injury        Type  \\\n",
       "count   6448  6448  6448     6448     6448     6448   6448        6448   \n",
       "unique  5551   252     7      153      367     1543   3830          11   \n",
       "top     1957  2015     M  Missing  Missing  Surfing  FATAL  Unprovoked   \n",
       "freq      11   141  5209     2867     3390     1009    811        4703   \n",
       "\n",
       "       Country     Area                          Location  Species latitude  \\\n",
       "count     6448     6448                              6448     6448     6448   \n",
       "unique     214      843                              4423     1576     3315   \n",
       "top        USA  Florida  New Smyrna Beach, Volusia County  Missing  Missing   \n",
       "freq      2310     1071                               172     2911      201   \n",
       "\n",
       "       longitude fatal  \n",
       "count       6448  6448  \n",
       "unique      3304     7  \n",
       "top      Missing     N  \n",
       "freq         201  4430  "
      ]
     },
     "execution_count": 5,
     "metadata": {},
     "output_type": "execute_result"
    }
   ],
   "source": [
    "#replace '' by 'missing'\n",
    "sub_df=fill_missing_value(data=sub_df)\n",
    "sub_df.describe()"
   ]
  },
  {
   "cell_type": "code",
   "execution_count": 14,
   "id": "4c66332e",
   "metadata": {},
   "outputs": [
    {
     "name": "stdout",
     "output_type": "stream",
     "text": [
      "<class 'pandas.core.frame.DataFrame'>\n",
      "RangeIndex: 6448 entries, 0 to 6447\n",
      "Data columns (total 15 columns):\n",
      " #   Column     Non-Null Count  Dtype \n",
      "---  ------     --------------  ----- \n",
      " 0   Date       6448 non-null   object\n",
      " 1   Year       6448 non-null   object\n",
      " 2   Sex        6448 non-null   object\n",
      " 3   Age        6448 non-null   object\n",
      " 4   Time       6448 non-null   object\n",
      " 5   Activity   6448 non-null   object\n",
      " 6   Injury     6448 non-null   object\n",
      " 7   Type       6448 non-null   object\n",
      " 8   Country    6448 non-null   object\n",
      " 9   Area       6448 non-null   object\n",
      " 10  Location   6448 non-null   object\n",
      " 11  Species    6448 non-null   object\n",
      " 12  latitude   6448 non-null   object\n",
      " 13  longitude  6448 non-null   object\n",
      " 14  fatal      6448 non-null   object\n",
      "dtypes: object(15)\n",
      "memory usage: 755.8+ KB\n"
     ]
    }
   ],
   "source": [
    "sub_df.info()"
   ]
  },
  {
   "cell_type": "code",
   "execution_count": 15,
   "id": "d02103ea",
   "metadata": {},
   "outputs": [],
   "source": [
    "sub_df=dfFloat_to_dfStr(df=sub_df)"
   ]
  },
  {
   "cell_type": "markdown",
   "id": "9dea40d2",
   "metadata": {},
   "source": [
    "# Transformation du temps"
   ]
  },
  {
   "cell_type": "code",
   "execution_count": 17,
   "id": "9ea19579",
   "metadata": {},
   "outputs": [],
   "source": [
    "new_timeSeries,time_in_second,formats=get_second_from_format_hms(timeSeries=sub_df.Time)\n",
    "sub_df.Time=new_timeSeries"
   ]
  },
  {
   "cell_type": "markdown",
   "id": "b83fd465",
   "metadata": {},
   "source": [
    "# Transformation de l'Age"
   ]
  },
  {
   "cell_type": "code",
   "execution_count": 18,
   "id": "8a6fa1e0",
   "metadata": {},
   "outputs": [
    {
     "name": "stdout",
     "output_type": "stream",
     "text": [
      "6448\n"
     ]
    }
   ],
   "source": [
    "sub_df.Age=sub_df.Age.apply(remove_whitespace)\n",
    "new_AgeSeries=filter_Age(data=sub_df)\n",
    "sub_df.Age=new_AgeSeries"
   ]
  },
  {
   "cell_type": "markdown",
   "id": "1f9ccbe4",
   "metadata": {},
   "source": [
    "# Transformation de fatal"
   ]
  },
  {
   "cell_type": "code",
   "execution_count": 16,
   "id": "b8bf9a14",
   "metadata": {},
   "outputs": [
    {
     "name": "stdout",
     "output_type": "stream",
     "text": [
      "6448\n"
     ]
    }
   ],
   "source": [
    "new_fatalSeries=filter_fatal(data=sub_df)\n",
    "sub_df.fatal=new_fatalSeries"
   ]
  },
  {
   "cell_type": "markdown",
   "id": "034ccace",
   "metadata": {},
   "source": [
    "# Transformation du Sex"
   ]
  },
  {
   "cell_type": "code",
   "execution_count": 19,
   "id": "4922af4b",
   "metadata": {},
   "outputs": [
    {
     "name": "stdout",
     "output_type": "stream",
     "text": [
      "6448\n"
     ]
    }
   ],
   "source": [
    "new_SexSeries=filter_sex(data=sub_df)\n",
    "sub_df.Sex=new_SexSeries"
   ]
  },
  {
   "cell_type": "markdown",
   "id": "ab61bede",
   "metadata": {},
   "source": [
    "# Transformation Year"
   ]
  },
  {
   "cell_type": "code",
   "execution_count": 20,
   "id": "8b155efc",
   "metadata": {},
   "outputs": [
    {
     "name": "stdout",
     "output_type": "stream",
     "text": [
      "6448\n"
     ]
    }
   ],
   "source": [
    "new_YearSeries=filter_year(data=sub_df)\n",
    "sub_df.Year=new_YearSeries"
   ]
  },
  {
   "cell_type": "markdown",
   "id": "cd8d70a9",
   "metadata": {},
   "source": [
    "# Transformation Month"
   ]
  },
  {
   "cell_type": "code",
   "execution_count": 21,
   "id": "282d6b62",
   "metadata": {},
   "outputs": [
    {
     "name": "stdout",
     "output_type": "stream",
     "text": [
      "6448\n"
     ]
    }
   ],
   "source": [
    "month=filter_month(data=sub_df)\n",
    "sub_df[\"Months\"]=month"
   ]
  },
  {
   "cell_type": "markdown",
   "id": "f3c85d03",
   "metadata": {},
   "source": [
    "# Transformation du jour"
   ]
  },
  {
   "cell_type": "code",
   "execution_count": 22,
   "id": "5303b7cc",
   "metadata": {},
   "outputs": [
    {
     "name": "stdout",
     "output_type": "stream",
     "text": [
      "6448\n"
     ]
    }
   ],
   "source": [
    "jour=filter_jour(data=sub_df)  \n",
    "sub_df[\"Days\"]=jour"
   ]
  },
  {
   "cell_type": "markdown",
   "id": "00c45a62",
   "metadata": {},
   "source": [
    "## Transformation of hours"
   ]
  },
  {
   "cell_type": "code",
   "execution_count": 23,
   "id": "2d8dc36a",
   "metadata": {},
   "outputs": [
    {
     "name": "stdout",
     "output_type": "stream",
     "text": [
      "6448\n"
     ]
    }
   ],
   "source": [
    "hours=get_hours(Month=sub_df[\"Months\"],Year=sub_df[\"Year\"],Day=sub_df[\"Days\"],Time_in_second=time_in_second)\n",
    "sub_df[\"Hours\"]=hours"
   ]
  },
  {
   "cell_type": "markdown",
   "id": "162fef32",
   "metadata": {},
   "source": [
    "# New data"
   ]
  },
  {
   "cell_type": "code",
   "execution_count": 24,
   "id": "da4f963e",
   "metadata": {},
   "outputs": [
    {
     "data": {
      "text/html": [
       "<div>\n",
       "<style scoped>\n",
       "    .dataframe tbody tr th:only-of-type {\n",
       "        vertical-align: middle;\n",
       "    }\n",
       "\n",
       "    .dataframe tbody tr th {\n",
       "        vertical-align: top;\n",
       "    }\n",
       "\n",
       "    .dataframe thead th {\n",
       "        text-align: right;\n",
       "    }\n",
       "</style>\n",
       "<table border=\"1\" class=\"dataframe\">\n",
       "  <thead>\n",
       "    <tr style=\"text-align: right;\">\n",
       "      <th></th>\n",
       "      <th>Year</th>\n",
       "      <th>Sex</th>\n",
       "      <th>Age</th>\n",
       "      <th>Time</th>\n",
       "      <th>Activity</th>\n",
       "      <th>Injury</th>\n",
       "      <th>Type</th>\n",
       "      <th>Country</th>\n",
       "      <th>Area</th>\n",
       "      <th>Location</th>\n",
       "      <th>Species</th>\n",
       "      <th>latitude</th>\n",
       "      <th>longitude</th>\n",
       "      <th>fatal</th>\n",
       "      <th>Months</th>\n",
       "      <th>Days</th>\n",
       "      <th>Hours</th>\n",
       "    </tr>\n",
       "  </thead>\n",
       "  <tbody>\n",
       "    <tr>\n",
       "      <th>0</th>\n",
       "      <td>2019</td>\n",
       "      <td>Male</td>\n",
       "      <td>40</td>\n",
       "      <td>11h55</td>\n",
       "      <td>Surfing</td>\n",
       "      <td>Hand and calf bitten when he jumped off surfbo...</td>\n",
       "      <td>Provoked</td>\n",
       "      <td>USA</td>\n",
       "      <td>Florida</td>\n",
       "      <td>New Smyrna Beach, Volusia County</td>\n",
       "      <td>6.5' shark</td>\n",
       "      <td>29.0258191</td>\n",
       "      <td>-80.9269984</td>\n",
       "      <td>Alive</td>\n",
       "      <td>Aug</td>\n",
       "      <td>27</td>\n",
       "      <td>2019-08-27 11:55:00</td>\n",
       "    </tr>\n",
       "    <tr>\n",
       "      <th>1</th>\n",
       "      <td>2019</td>\n",
       "      <td>Male</td>\n",
       "      <td>11</td>\n",
       "      <td>09h00</td>\n",
       "      <td>Wading</td>\n",
       "      <td>Foot bitten</td>\n",
       "      <td>Unprovoked</td>\n",
       "      <td>USA</td>\n",
       "      <td>Florida</td>\n",
       "      <td>Fort Lauderdale, Broward County</td>\n",
       "      <td>Missing</td>\n",
       "      <td>26.1224386</td>\n",
       "      <td>-80.13731740000001</td>\n",
       "      <td>Alive</td>\n",
       "      <td>Aug</td>\n",
       "      <td>21</td>\n",
       "      <td>2019-08-21 09:00:00</td>\n",
       "    </tr>\n",
       "    <tr>\n",
       "      <th>2</th>\n",
       "      <td>2019</td>\n",
       "      <td>Female</td>\n",
       "      <td>26</td>\n",
       "      <td>08h00</td>\n",
       "      <td>Swimming</td>\n",
       "      <td>Injury to lower back and right hip</td>\n",
       "      <td>Unprovoked</td>\n",
       "      <td>USA</td>\n",
       "      <td>Hawaii</td>\n",
       "      <td>Napoopoo Park in Kealakekua Bay, The Big Island</td>\n",
       "      <td>Missing</td>\n",
       "      <td>19.4782437</td>\n",
       "      <td>-155.9259272</td>\n",
       "      <td>Alive</td>\n",
       "      <td>Aug</td>\n",
       "      <td>20</td>\n",
       "      <td>2019-08-20 08:00:00</td>\n",
       "    </tr>\n",
       "    <tr>\n",
       "      <th>3</th>\n",
       "      <td>2019</td>\n",
       "      <td>Male</td>\n",
       "      <td>9</td>\n",
       "      <td>11h00</td>\n",
       "      <td>Wading</td>\n",
       "      <td>Puncture marks to lower leg</td>\n",
       "      <td>Unprovoked</td>\n",
       "      <td>USA</td>\n",
       "      <td>Florida</td>\n",
       "      <td>New Smyrna Beach, Volusia County</td>\n",
       "      <td>Missing</td>\n",
       "      <td>29.0258191</td>\n",
       "      <td>-80.9269984</td>\n",
       "      <td>Alive</td>\n",
       "      <td>Aug</td>\n",
       "      <td>16</td>\n",
       "      <td>2019-08-16 11:00:00</td>\n",
       "    </tr>\n",
       "    <tr>\n",
       "      <th>4</th>\n",
       "      <td>2019</td>\n",
       "      <td>Male</td>\n",
       "      <td>16</td>\n",
       "      <td>19h30</td>\n",
       "      <td>Surfing</td>\n",
       "      <td>No injury, board damaged</td>\n",
       "      <td>Unprovoked</td>\n",
       "      <td>USA</td>\n",
       "      <td>Hawaii</td>\n",
       "      <td>Makaha Beach, Oahu</td>\n",
       "      <td>10' to 12' shark</td>\n",
       "      <td>21.4763581</td>\n",
       "      <td>-158.2203658</td>\n",
       "      <td>Alive</td>\n",
       "      <td>Aug</td>\n",
       "      <td>11</td>\n",
       "      <td>2019-08-11 19:30:00</td>\n",
       "    </tr>\n",
       "    <tr>\n",
       "      <th>...</th>\n",
       "      <td>...</td>\n",
       "      <td>...</td>\n",
       "      <td>...</td>\n",
       "      <td>...</td>\n",
       "      <td>...</td>\n",
       "      <td>...</td>\n",
       "      <td>...</td>\n",
       "      <td>...</td>\n",
       "      <td>...</td>\n",
       "      <td>...</td>\n",
       "      <td>...</td>\n",
       "      <td>...</td>\n",
       "      <td>...</td>\n",
       "      <td>...</td>\n",
       "      <td>...</td>\n",
       "      <td>...</td>\n",
       "      <td>...</td>\n",
       "    </tr>\n",
       "    <tr>\n",
       "      <th>6443</th>\n",
       "      <td>1903</td>\n",
       "      <td>Male</td>\n",
       "      <td>Missing</td>\n",
       "      <td>Missing</td>\n",
       "      <td>Diving</td>\n",
       "      <td>FATAL</td>\n",
       "      <td>Unprovoked</td>\n",
       "      <td>AUSTRALIA</td>\n",
       "      <td>Western Australia</td>\n",
       "      <td>Roebuck Bay</td>\n",
       "      <td>Missing</td>\n",
       "      <td>-18.0858333</td>\n",
       "      <td>122.2830556</td>\n",
       "      <td>Dead</td>\n",
       "      <td>Missing</td>\n",
       "      <td>Missing</td>\n",
       "      <td>Missing</td>\n",
       "    </tr>\n",
       "    <tr>\n",
       "      <th>6444</th>\n",
       "      <td>1903</td>\n",
       "      <td>Male</td>\n",
       "      <td>Missing</td>\n",
       "      <td>Missing</td>\n",
       "      <td>Pearl diving</td>\n",
       "      <td>FATAL</td>\n",
       "      <td>Unprovoked</td>\n",
       "      <td>AUSTRALIA</td>\n",
       "      <td>Western Australia</td>\n",
       "      <td>Lake Darlot, Shire Of Leonora, Western Austral...</td>\n",
       "      <td>Missing</td>\n",
       "      <td>-27.6728168</td>\n",
       "      <td>121.6283098</td>\n",
       "      <td>Dead</td>\n",
       "      <td>Missing</td>\n",
       "      <td>Missing</td>\n",
       "      <td>Missing</td>\n",
       "    </tr>\n",
       "    <tr>\n",
       "      <th>6445</th>\n",
       "      <td>1900</td>\n",
       "      <td>Male</td>\n",
       "      <td>Missing</td>\n",
       "      <td>Missing</td>\n",
       "      <td>Swimming</td>\n",
       "      <td>FATAL</td>\n",
       "      <td>Unprovoked</td>\n",
       "      <td>USA</td>\n",
       "      <td>North Carolina</td>\n",
       "      <td>Ocracoke Inlet</td>\n",
       "      <td>Missing</td>\n",
       "      <td>35.0861054</td>\n",
       "      <td>-76.0333885</td>\n",
       "      <td>Dead</td>\n",
       "      <td>Missing</td>\n",
       "      <td>Missing</td>\n",
       "      <td>Missing</td>\n",
       "    </tr>\n",
       "    <tr>\n",
       "      <th>6446</th>\n",
       "      <td>1883</td>\n",
       "      <td>Male</td>\n",
       "      <td>Missing</td>\n",
       "      <td>Missing</td>\n",
       "      <td>Missing</td>\n",
       "      <td>FATAL</td>\n",
       "      <td>Unprovoked</td>\n",
       "      <td>PANAMA</td>\n",
       "      <td>Missing</td>\n",
       "      <td>Panama Bay 8ºN, 79ºW</td>\n",
       "      <td>Missing</td>\n",
       "      <td>Missing</td>\n",
       "      <td>Missing</td>\n",
       "      <td>Dead</td>\n",
       "      <td>Missing</td>\n",
       "      <td>Missing</td>\n",
       "      <td>Missing</td>\n",
       "    </tr>\n",
       "    <tr>\n",
       "      <th>6447</th>\n",
       "      <td>1845</td>\n",
       "      <td>Male</td>\n",
       "      <td>15</td>\n",
       "      <td>Missing</td>\n",
       "      <td>Swimming</td>\n",
       "      <td>FATAL. \"Shark bit him in half, carrying away t...</td>\n",
       "      <td>Unprovoked</td>\n",
       "      <td>CEYLON (SRI LANKA)</td>\n",
       "      <td>Eastern Province</td>\n",
       "      <td>Below the English fort, Trincomalee</td>\n",
       "      <td>Missing</td>\n",
       "      <td>8.5772776</td>\n",
       "      <td>81.2432785</td>\n",
       "      <td>Dead</td>\n",
       "      <td>Missing</td>\n",
       "      <td>Missing</td>\n",
       "      <td>Missing</td>\n",
       "    </tr>\n",
       "  </tbody>\n",
       "</table>\n",
       "<p>6448 rows × 17 columns</p>\n",
       "</div>"
      ],
      "text/plain": [
       "      Year     Sex      Age     Time      Activity  \\\n",
       "0     2019    Male       40    11h55       Surfing   \n",
       "1     2019    Male       11    09h00        Wading   \n",
       "2     2019  Female       26    08h00      Swimming   \n",
       "3     2019    Male        9    11h00        Wading   \n",
       "4     2019    Male       16    19h30       Surfing   \n",
       "...    ...     ...      ...      ...           ...   \n",
       "6443  1903    Male  Missing  Missing        Diving   \n",
       "6444  1903    Male  Missing  Missing  Pearl diving   \n",
       "6445  1900    Male  Missing  Missing      Swimming   \n",
       "6446  1883    Male  Missing  Missing       Missing   \n",
       "6447  1845    Male       15  Missing      Swimming   \n",
       "\n",
       "                                                 Injury        Type  \\\n",
       "0     Hand and calf bitten when he jumped off surfbo...    Provoked   \n",
       "1                                           Foot bitten  Unprovoked   \n",
       "2                    Injury to lower back and right hip  Unprovoked   \n",
       "3                           Puncture marks to lower leg  Unprovoked   \n",
       "4                              No injury, board damaged  Unprovoked   \n",
       "...                                                 ...         ...   \n",
       "6443                                              FATAL  Unprovoked   \n",
       "6444                                              FATAL  Unprovoked   \n",
       "6445                                              FATAL  Unprovoked   \n",
       "6446                                              FATAL  Unprovoked   \n",
       "6447  FATAL. \"Shark bit him in half, carrying away t...  Unprovoked   \n",
       "\n",
       "                 Country               Area  \\\n",
       "0                    USA            Florida   \n",
       "1                    USA            Florida   \n",
       "2                    USA             Hawaii   \n",
       "3                    USA            Florida   \n",
       "4                    USA             Hawaii   \n",
       "...                  ...                ...   \n",
       "6443           AUSTRALIA  Western Australia   \n",
       "6444           AUSTRALIA  Western Australia   \n",
       "6445                 USA     North Carolina   \n",
       "6446              PANAMA            Missing   \n",
       "6447  CEYLON (SRI LANKA)   Eastern Province   \n",
       "\n",
       "                                               Location           Species  \\\n",
       "0                      New Smyrna Beach, Volusia County        6.5' shark   \n",
       "1                       Fort Lauderdale, Broward County           Missing   \n",
       "2       Napoopoo Park in Kealakekua Bay, The Big Island           Missing   \n",
       "3                      New Smyrna Beach, Volusia County           Missing   \n",
       "4                                    Makaha Beach, Oahu  10' to 12' shark   \n",
       "...                                                 ...               ...   \n",
       "6443                                        Roebuck Bay           Missing   \n",
       "6444  Lake Darlot, Shire Of Leonora, Western Austral...           Missing   \n",
       "6445                                     Ocracoke Inlet           Missing   \n",
       "6446                               Panama Bay 8ºN, 79ºW           Missing   \n",
       "6447                Below the English fort, Trincomalee           Missing   \n",
       "\n",
       "         latitude           longitude  fatal   Months     Days  \\\n",
       "0      29.0258191         -80.9269984  Alive      Aug       27   \n",
       "1      26.1224386  -80.13731740000001  Alive      Aug       21   \n",
       "2      19.4782437        -155.9259272  Alive      Aug       20   \n",
       "3      29.0258191         -80.9269984  Alive      Aug       16   \n",
       "4      21.4763581        -158.2203658  Alive      Aug       11   \n",
       "...           ...                 ...    ...      ...      ...   \n",
       "6443  -18.0858333         122.2830556   Dead  Missing  Missing   \n",
       "6444  -27.6728168         121.6283098   Dead  Missing  Missing   \n",
       "6445   35.0861054         -76.0333885   Dead  Missing  Missing   \n",
       "6446      Missing             Missing   Dead  Missing  Missing   \n",
       "6447    8.5772776          81.2432785   Dead  Missing  Missing   \n",
       "\n",
       "                    Hours  \n",
       "0     2019-08-27 11:55:00  \n",
       "1     2019-08-21 09:00:00  \n",
       "2     2019-08-20 08:00:00  \n",
       "3     2019-08-16 11:00:00  \n",
       "4     2019-08-11 19:30:00  \n",
       "...                   ...  \n",
       "6443              Missing  \n",
       "6444              Missing  \n",
       "6445              Missing  \n",
       "6446              Missing  \n",
       "6447              Missing  \n",
       "\n",
       "[6448 rows x 17 columns]"
      ]
     },
     "execution_count": 24,
     "metadata": {},
     "output_type": "execute_result"
    }
   ],
   "source": [
    "new_sub_df=sub_df.drop(columns=[\"Date\"])\n",
    "new_sub_df"
   ]
  },
  {
   "cell_type": "code",
   "execution_count": 25,
   "id": "422af286",
   "metadata": {},
   "outputs": [
    {
     "data": {
      "text/html": [
       "<div>\n",
       "<style scoped>\n",
       "    .dataframe tbody tr th:only-of-type {\n",
       "        vertical-align: middle;\n",
       "    }\n",
       "\n",
       "    .dataframe tbody tr th {\n",
       "        vertical-align: top;\n",
       "    }\n",
       "\n",
       "    .dataframe thead th {\n",
       "        text-align: right;\n",
       "    }\n",
       "</style>\n",
       "<table border=\"1\" class=\"dataframe\">\n",
       "  <thead>\n",
       "    <tr style=\"text-align: right;\">\n",
       "      <th></th>\n",
       "      <th>Year</th>\n",
       "      <th>Sex</th>\n",
       "      <th>Age</th>\n",
       "      <th>Time</th>\n",
       "      <th>Activity</th>\n",
       "      <th>Injury</th>\n",
       "      <th>Type</th>\n",
       "      <th>Country</th>\n",
       "      <th>Area</th>\n",
       "      <th>Location</th>\n",
       "      <th>Species</th>\n",
       "      <th>latitude</th>\n",
       "      <th>longitude</th>\n",
       "      <th>fatal</th>\n",
       "      <th>Months</th>\n",
       "      <th>Days</th>\n",
       "      <th>Hours</th>\n",
       "    </tr>\n",
       "  </thead>\n",
       "  <tbody>\n",
       "    <tr>\n",
       "      <th>count</th>\n",
       "      <td>6448</td>\n",
       "      <td>6448</td>\n",
       "      <td>6448</td>\n",
       "      <td>6448</td>\n",
       "      <td>6448</td>\n",
       "      <td>6448</td>\n",
       "      <td>6448</td>\n",
       "      <td>6448</td>\n",
       "      <td>6448</td>\n",
       "      <td>6448</td>\n",
       "      <td>6448</td>\n",
       "      <td>6448</td>\n",
       "      <td>6448</td>\n",
       "      <td>6448</td>\n",
       "      <td>6448</td>\n",
       "      <td>6448</td>\n",
       "      <td>6448</td>\n",
       "    </tr>\n",
       "    <tr>\n",
       "      <th>unique</th>\n",
       "      <td>252</td>\n",
       "      <td>3</td>\n",
       "      <td>82</td>\n",
       "      <td>255</td>\n",
       "      <td>1543</td>\n",
       "      <td>3830</td>\n",
       "      <td>11</td>\n",
       "      <td>214</td>\n",
       "      <td>843</td>\n",
       "      <td>4423</td>\n",
       "      <td>1576</td>\n",
       "      <td>3315</td>\n",
       "      <td>3304</td>\n",
       "      <td>3</td>\n",
       "      <td>13</td>\n",
       "      <td>32</td>\n",
       "      <td>2417</td>\n",
       "    </tr>\n",
       "    <tr>\n",
       "      <th>top</th>\n",
       "      <td>2015</td>\n",
       "      <td>Male</td>\n",
       "      <td>Missing</td>\n",
       "      <td>Missing</td>\n",
       "      <td>Surfing</td>\n",
       "      <td>FATAL</td>\n",
       "      <td>Unprovoked</td>\n",
       "      <td>USA</td>\n",
       "      <td>Florida</td>\n",
       "      <td>New Smyrna Beach, Volusia County</td>\n",
       "      <td>Missing</td>\n",
       "      <td>Missing</td>\n",
       "      <td>Missing</td>\n",
       "      <td>Alive</td>\n",
       "      <td>Jul</td>\n",
       "      <td>Missing</td>\n",
       "      <td>Missing</td>\n",
       "    </tr>\n",
       "    <tr>\n",
       "      <th>freq</th>\n",
       "      <td>143</td>\n",
       "      <td>5209</td>\n",
       "      <td>2900</td>\n",
       "      <td>3984</td>\n",
       "      <td>1009</td>\n",
       "      <td>811</td>\n",
       "      <td>4703</td>\n",
       "      <td>2310</td>\n",
       "      <td>1071</td>\n",
       "      <td>172</td>\n",
       "      <td>2911</td>\n",
       "      <td>201</td>\n",
       "      <td>201</td>\n",
       "      <td>4430</td>\n",
       "      <td>702</td>\n",
       "      <td>907</td>\n",
       "      <td>3984</td>\n",
       "    </tr>\n",
       "  </tbody>\n",
       "</table>\n",
       "</div>"
      ],
      "text/plain": [
       "        Year   Sex      Age     Time Activity Injury        Type Country  \\\n",
       "count   6448  6448     6448     6448     6448   6448        6448    6448   \n",
       "unique   252     3       82      255     1543   3830          11     214   \n",
       "top     2015  Male  Missing  Missing  Surfing  FATAL  Unprovoked     USA   \n",
       "freq     143  5209     2900     3984     1009    811        4703    2310   \n",
       "\n",
       "           Area                          Location  Species latitude longitude  \\\n",
       "count      6448                              6448     6448     6448      6448   \n",
       "unique      843                              4423     1576     3315      3304   \n",
       "top     Florida  New Smyrna Beach, Volusia County  Missing  Missing   Missing   \n",
       "freq       1071                               172     2911      201       201   \n",
       "\n",
       "        fatal Months     Days    Hours  \n",
       "count    6448   6448     6448     6448  \n",
       "unique      3     13       32     2417  \n",
       "top     Alive    Jul  Missing  Missing  \n",
       "freq     4430    702      907     3984  "
      ]
     },
     "execution_count": 25,
     "metadata": {},
     "output_type": "execute_result"
    }
   ],
   "source": [
    "new_sub_df.describe()"
   ]
  },
  {
   "cell_type": "code",
   "execution_count": 29,
   "id": "8d1b3ac3",
   "metadata": {},
   "outputs": [],
   "source": [
    "df_save=new_sub_df.drop(columns=[\"Hours\"])\n",
    "df_save.to_excel(\"dataNew/New_shark.xlsx\",index=False)"
   ]
  },
  {
   "cell_type": "code",
   "execution_count": 30,
   "id": "bdc11bf1",
   "metadata": {},
   "outputs": [
    {
     "data": {
      "text/html": [
       "<div>\n",
       "<style scoped>\n",
       "    .dataframe tbody tr th:only-of-type {\n",
       "        vertical-align: middle;\n",
       "    }\n",
       "\n",
       "    .dataframe tbody tr th {\n",
       "        vertical-align: top;\n",
       "    }\n",
       "\n",
       "    .dataframe thead th {\n",
       "        text-align: right;\n",
       "    }\n",
       "</style>\n",
       "<table border=\"1\" class=\"dataframe\">\n",
       "  <thead>\n",
       "    <tr style=\"text-align: right;\">\n",
       "      <th></th>\n",
       "      <th>Year</th>\n",
       "      <th>Sex</th>\n",
       "      <th>Age</th>\n",
       "      <th>Time</th>\n",
       "      <th>Activity</th>\n",
       "      <th>Injury</th>\n",
       "      <th>Type</th>\n",
       "      <th>Country</th>\n",
       "      <th>Area</th>\n",
       "      <th>Location</th>\n",
       "      <th>Species</th>\n",
       "      <th>latitude</th>\n",
       "      <th>longitude</th>\n",
       "      <th>fatal</th>\n",
       "      <th>Months</th>\n",
       "      <th>Days</th>\n",
       "      <th>Hours</th>\n",
       "    </tr>\n",
       "  </thead>\n",
       "  <tbody>\n",
       "    <tr>\n",
       "      <th>0</th>\n",
       "      <td>2019</td>\n",
       "      <td>Male</td>\n",
       "      <td>40</td>\n",
       "      <td>11h55</td>\n",
       "      <td>Surfing</td>\n",
       "      <td>Hand and calf bitten when he jumped off surfbo...</td>\n",
       "      <td>Provoked</td>\n",
       "      <td>USA</td>\n",
       "      <td>Florida</td>\n",
       "      <td>New Smyrna Beach, Volusia County</td>\n",
       "      <td>6.5' shark</td>\n",
       "      <td>29.0258191</td>\n",
       "      <td>-80.9269984</td>\n",
       "      <td>Alive</td>\n",
       "      <td>Aug</td>\n",
       "      <td>27</td>\n",
       "      <td>2019-08-27 11:55:00</td>\n",
       "    </tr>\n",
       "    <tr>\n",
       "      <th>1</th>\n",
       "      <td>2019</td>\n",
       "      <td>Male</td>\n",
       "      <td>11</td>\n",
       "      <td>09h00</td>\n",
       "      <td>Wading</td>\n",
       "      <td>Foot bitten</td>\n",
       "      <td>Unprovoked</td>\n",
       "      <td>USA</td>\n",
       "      <td>Florida</td>\n",
       "      <td>Fort Lauderdale, Broward County</td>\n",
       "      <td>Missing</td>\n",
       "      <td>26.1224386</td>\n",
       "      <td>-80.13731740000001</td>\n",
       "      <td>Alive</td>\n",
       "      <td>Aug</td>\n",
       "      <td>21</td>\n",
       "      <td>2019-08-21 09:00:00</td>\n",
       "    </tr>\n",
       "    <tr>\n",
       "      <th>2</th>\n",
       "      <td>2019</td>\n",
       "      <td>Female</td>\n",
       "      <td>26</td>\n",
       "      <td>08h00</td>\n",
       "      <td>Swimming</td>\n",
       "      <td>Injury to lower back and right hip</td>\n",
       "      <td>Unprovoked</td>\n",
       "      <td>USA</td>\n",
       "      <td>Hawaii</td>\n",
       "      <td>Napoopoo Park in Kealakekua Bay, The Big Island</td>\n",
       "      <td>Missing</td>\n",
       "      <td>19.4782437</td>\n",
       "      <td>-155.9259272</td>\n",
       "      <td>Alive</td>\n",
       "      <td>Aug</td>\n",
       "      <td>20</td>\n",
       "      <td>2019-08-20 08:00:00</td>\n",
       "    </tr>\n",
       "    <tr>\n",
       "      <th>3</th>\n",
       "      <td>2019</td>\n",
       "      <td>Male</td>\n",
       "      <td>9</td>\n",
       "      <td>11h00</td>\n",
       "      <td>Wading</td>\n",
       "      <td>Puncture marks to lower leg</td>\n",
       "      <td>Unprovoked</td>\n",
       "      <td>USA</td>\n",
       "      <td>Florida</td>\n",
       "      <td>New Smyrna Beach, Volusia County</td>\n",
       "      <td>Missing</td>\n",
       "      <td>29.0258191</td>\n",
       "      <td>-80.9269984</td>\n",
       "      <td>Alive</td>\n",
       "      <td>Aug</td>\n",
       "      <td>16</td>\n",
       "      <td>2019-08-16 11:00:00</td>\n",
       "    </tr>\n",
       "    <tr>\n",
       "      <th>4</th>\n",
       "      <td>2019</td>\n",
       "      <td>Male</td>\n",
       "      <td>16</td>\n",
       "      <td>19h30</td>\n",
       "      <td>Surfing</td>\n",
       "      <td>No injury, board damaged</td>\n",
       "      <td>Unprovoked</td>\n",
       "      <td>USA</td>\n",
       "      <td>Hawaii</td>\n",
       "      <td>Makaha Beach, Oahu</td>\n",
       "      <td>10' to 12' shark</td>\n",
       "      <td>21.4763581</td>\n",
       "      <td>-158.2203658</td>\n",
       "      <td>Alive</td>\n",
       "      <td>Aug</td>\n",
       "      <td>11</td>\n",
       "      <td>2019-08-11 19:30:00</td>\n",
       "    </tr>\n",
       "    <tr>\n",
       "      <th>...</th>\n",
       "      <td>...</td>\n",
       "      <td>...</td>\n",
       "      <td>...</td>\n",
       "      <td>...</td>\n",
       "      <td>...</td>\n",
       "      <td>...</td>\n",
       "      <td>...</td>\n",
       "      <td>...</td>\n",
       "      <td>...</td>\n",
       "      <td>...</td>\n",
       "      <td>...</td>\n",
       "      <td>...</td>\n",
       "      <td>...</td>\n",
       "      <td>...</td>\n",
       "      <td>...</td>\n",
       "      <td>...</td>\n",
       "      <td>...</td>\n",
       "    </tr>\n",
       "    <tr>\n",
       "      <th>2411</th>\n",
       "      <td>1830</td>\n",
       "      <td>Male</td>\n",
       "      <td>Missing</td>\n",
       "      <td>17h00</td>\n",
       "      <td>Bathing</td>\n",
       "      <td>FATAL</td>\n",
       "      <td>Unprovoked</td>\n",
       "      <td>INDIA</td>\n",
       "      <td>Tamil Nadu</td>\n",
       "      <td>St. Thomé</td>\n",
       "      <td>Missing</td>\n",
       "      <td>44.5005626</td>\n",
       "      <td>4.6263047</td>\n",
       "      <td>Dead</td>\n",
       "      <td>Apr</td>\n",
       "      <td>30</td>\n",
       "      <td>1830-04-30 17:00:00</td>\n",
       "    </tr>\n",
       "    <tr>\n",
       "      <th>2412</th>\n",
       "      <td>1826</td>\n",
       "      <td>Male</td>\n",
       "      <td>Missing</td>\n",
       "      <td>19h00</td>\n",
       "      <td>Jumped overboard</td>\n",
       "      <td>FATAL</td>\n",
       "      <td>Unprovoked</td>\n",
       "      <td>JAMAICA</td>\n",
       "      <td>Missing</td>\n",
       "      <td>Clarendon, Middlesex County, Jamaica</td>\n",
       "      <td>Missing</td>\n",
       "      <td>18.109581</td>\n",
       "      <td>-77.297508</td>\n",
       "      <td>Dead</td>\n",
       "      <td>May</td>\n",
       "      <td>20</td>\n",
       "      <td>1826-05-20 19:00:00</td>\n",
       "    </tr>\n",
       "    <tr>\n",
       "      <th>2413</th>\n",
       "      <td>1817</td>\n",
       "      <td>Male</td>\n",
       "      <td>Missing</td>\n",
       "      <td>13h00</td>\n",
       "      <td>Conch diver</td>\n",
       "      <td>Abdomen bitten</td>\n",
       "      <td>Unprovoked</td>\n",
       "      <td>SRI LANKA</td>\n",
       "      <td>Missing</td>\n",
       "      <td>Gulf of Mannar</td>\n",
       "      <td>Missing</td>\n",
       "      <td>8.980974300000002</td>\n",
       "      <td>79.90441489999999</td>\n",
       "      <td>Alive</td>\n",
       "      <td>Feb</td>\n",
       "      <td>22</td>\n",
       "      <td>1817-02-22 13:00:00</td>\n",
       "    </tr>\n",
       "    <tr>\n",
       "      <th>2414</th>\n",
       "      <td>1784</td>\n",
       "      <td>Male</td>\n",
       "      <td>Missing</td>\n",
       "      <td>22h00</td>\n",
       "      <td>Swimming</td>\n",
       "      <td>Missing</td>\n",
       "      <td>Unprovoked</td>\n",
       "      <td>JAMAICA</td>\n",
       "      <td>Missing</td>\n",
       "      <td>Kingston</td>\n",
       "      <td>Missing</td>\n",
       "      <td>18.0178743</td>\n",
       "      <td>-76.8099041</td>\n",
       "      <td>Dead</td>\n",
       "      <td>Dec</td>\n",
       "      <td>12</td>\n",
       "      <td>1784-12-12 22:00:00</td>\n",
       "    </tr>\n",
       "    <tr>\n",
       "      <th>2415</th>\n",
       "      <td>1783</td>\n",
       "      <td>Male</td>\n",
       "      <td>Missing</td>\n",
       "      <td>06h00</td>\n",
       "      <td>Missing</td>\n",
       "      <td>Many of the crew were taken by sharks</td>\n",
       "      <td>SeaDisaster</td>\n",
       "      <td>MARTINIQUE</td>\n",
       "      <td>Missing</td>\n",
       "      <td>Foundering of the privateer Holker</td>\n",
       "      <td>Missing</td>\n",
       "      <td>Missing</td>\n",
       "      <td>Missing</td>\n",
       "      <td>Dead</td>\n",
       "      <td>Mar</td>\n",
       "      <td>2</td>\n",
       "      <td>1783-03-02 06:00:00</td>\n",
       "    </tr>\n",
       "  </tbody>\n",
       "</table>\n",
       "<p>2416 rows × 17 columns</p>\n",
       "</div>"
      ],
      "text/plain": [
       "      Year     Sex      Age   Time          Activity  \\\n",
       "0     2019    Male       40  11h55           Surfing   \n",
       "1     2019    Male       11  09h00            Wading   \n",
       "2     2019  Female       26  08h00          Swimming   \n",
       "3     2019    Male        9  11h00            Wading   \n",
       "4     2019    Male       16  19h30           Surfing   \n",
       "...    ...     ...      ...    ...               ...   \n",
       "2411  1830    Male  Missing  17h00           Bathing   \n",
       "2412  1826    Male  Missing  19h00  Jumped overboard   \n",
       "2413  1817    Male  Missing  13h00       Conch diver   \n",
       "2414  1784    Male  Missing  22h00          Swimming   \n",
       "2415  1783    Male  Missing  06h00           Missing   \n",
       "\n",
       "                                                 Injury         Type  \\\n",
       "0     Hand and calf bitten when he jumped off surfbo...     Provoked   \n",
       "1                                           Foot bitten   Unprovoked   \n",
       "2                    Injury to lower back and right hip   Unprovoked   \n",
       "3                           Puncture marks to lower leg   Unprovoked   \n",
       "4                              No injury, board damaged   Unprovoked   \n",
       "...                                                 ...          ...   \n",
       "2411                                              FATAL   Unprovoked   \n",
       "2412                                              FATAL   Unprovoked   \n",
       "2413                                     Abdomen bitten   Unprovoked   \n",
       "2414                                            Missing   Unprovoked   \n",
       "2415              Many of the crew were taken by sharks  SeaDisaster   \n",
       "\n",
       "         Country        Area                                         Location  \\\n",
       "0            USA     Florida                 New Smyrna Beach, Volusia County   \n",
       "1            USA     Florida                  Fort Lauderdale, Broward County   \n",
       "2            USA      Hawaii  Napoopoo Park in Kealakekua Bay, The Big Island   \n",
       "3            USA     Florida                 New Smyrna Beach, Volusia County   \n",
       "4            USA      Hawaii                               Makaha Beach, Oahu   \n",
       "...          ...         ...                                              ...   \n",
       "2411       INDIA  Tamil Nadu                                        St. Thomé   \n",
       "2412     JAMAICA     Missing             Clarendon, Middlesex County, Jamaica   \n",
       "2413   SRI LANKA     Missing                                   Gulf of Mannar   \n",
       "2414     JAMAICA     Missing                                         Kingston   \n",
       "2415  MARTINIQUE     Missing               Foundering of the privateer Holker   \n",
       "\n",
       "               Species           latitude           longitude  fatal Months  \\\n",
       "0           6.5' shark         29.0258191         -80.9269984  Alive    Aug   \n",
       "1              Missing         26.1224386  -80.13731740000001  Alive    Aug   \n",
       "2              Missing         19.4782437        -155.9259272  Alive    Aug   \n",
       "3              Missing         29.0258191         -80.9269984  Alive    Aug   \n",
       "4     10' to 12' shark         21.4763581        -158.2203658  Alive    Aug   \n",
       "...                ...                ...                 ...    ...    ...   \n",
       "2411           Missing         44.5005626           4.6263047   Dead    Apr   \n",
       "2412           Missing          18.109581          -77.297508   Dead    May   \n",
       "2413           Missing  8.980974300000002   79.90441489999999  Alive    Feb   \n",
       "2414           Missing         18.0178743         -76.8099041   Dead    Dec   \n",
       "2415           Missing            Missing             Missing   Dead    Mar   \n",
       "\n",
       "     Days                Hours  \n",
       "0      27  2019-08-27 11:55:00  \n",
       "1      21  2019-08-21 09:00:00  \n",
       "2      20  2019-08-20 08:00:00  \n",
       "3      16  2019-08-16 11:00:00  \n",
       "4      11  2019-08-11 19:30:00  \n",
       "...   ...                  ...  \n",
       "2411   30  1830-04-30 17:00:00  \n",
       "2412   20  1826-05-20 19:00:00  \n",
       "2413   22  1817-02-22 13:00:00  \n",
       "2414   12  1784-12-12 22:00:00  \n",
       "2415    2  1783-03-02 06:00:00  \n",
       "\n",
       "[2416 rows x 17 columns]"
      ]
     },
     "execution_count": 30,
     "metadata": {},
     "output_type": "execute_result"
    }
   ],
   "source": [
    "df=filter_tyte_TimeStamp(data=new_sub_df)\n",
    "df"
   ]
  },
  {
   "cell_type": "code",
   "execution_count": 31,
   "id": "6dc3b5ff",
   "metadata": {},
   "outputs": [
    {
     "data": {
      "text/plain": [
       "Year                                     2019\n",
       "Sex                                      Male\n",
       "Age                                         9\n",
       "Time                                    11h00\n",
       "Activity                               Wading\n",
       "Injury            Puncture marks to lower leg\n",
       "Type                               Unprovoked\n",
       "Country                                   USA\n",
       "Area                                  Florida\n",
       "Location     New Smyrna Beach, Volusia County\n",
       "Species                               Missing\n",
       "latitude                           29.0258191\n",
       "longitude                         -80.9269984\n",
       "fatal                                   Alive\n",
       "Months                                    Aug\n",
       "Days                                       16\n",
       "Hours                     2019-08-16 11:00:00\n",
       "Name: 3, dtype: object"
      ]
     },
     "execution_count": 31,
     "metadata": {},
     "output_type": "execute_result"
    }
   ],
   "source": [
    "df.loc[3]"
   ]
  },
  {
   "cell_type": "markdown",
   "id": "b1f5e6a9",
   "metadata": {},
   "source": [
    "# Missing value"
   ]
  },
  {
   "cell_type": "code",
   "execution_count": 35,
   "id": "a1f6d7c9",
   "metadata": {},
   "outputs": [],
   "source": [
    "def unique_value(data=None,col=None):\n",
    "    values=data[col].values.tolist()\n",
    "    frame={\"unique\":values,\"count\":[1 for i in range(len(values))]}\n",
    "    df=pd.DataFrame(frame)\n",
    "    sd=df.groupby(by=\"unique\").count().reset_index(drop=False)\n",
    "    missing=sd[sd.unique==\"Missing\"]\n",
    "    print(f\"Missing:{missing['count']}\")"
   ]
  },
  {
   "cell_type": "code",
   "execution_count": 40,
   "id": "6024ffc9",
   "metadata": {},
   "outputs": [
    {
     "name": "stdout",
     "output_type": "stream",
     "text": [
      "Missing:2320    110\n",
      "Name: count, dtype: int64\n"
     ]
    }
   ],
   "source": [
    "unique_value(data=sub_df,col=\"Location\")"
   ]
  },
  {
   "cell_type": "markdown",
   "id": "b577ef14",
   "metadata": {},
   "source": [
    "# Plot biblio"
   ]
  },
  {
   "cell_type": "markdown",
   "id": "f0cbf02b",
   "metadata": {},
   "source": [
    "## plot by year"
   ]
  },
  {
   "cell_type": "code",
   "execution_count": null,
   "id": "07c0e82f",
   "metadata": {
    "scrolled": false
   },
   "outputs": [],
   "source": [
    "temp=sub_df\n",
    "temp[\"Year\"]=temp[\"Year\"].apply(convert_str_to_float).copy()\n",
    "temp=temp[1999<temp.Year]\n",
    "fig=plt.figure(figsize=(25,12))\n",
    "sns.countplot(data=temp, y=\"Year\", hue=\"fatal\")"
   ]
  },
  {
   "cell_type": "code",
   "execution_count": null,
   "id": "b25f6fdc",
   "metadata": {},
   "outputs": [],
   "source": [
    "temp=sub_df\n",
    "temp[\"Year\"]=temp[\"Year\"].apply(convert_str_to_float).copy()\n",
    "temp=temp[1800<temp.Year]\n",
    "temp=temp.groupby(by=\"Year\").count().reset_index(drop=False)"
   ]
  },
  {
   "cell_type": "code",
   "execution_count": null,
   "id": "bcf7ac84",
   "metadata": {},
   "outputs": [],
   "source": [
    "fig=plt.figure(figsize=(20,12))\n",
    "sns.lineplot(data=temp,x=\"Year\",y=\"fatal\",color=\"r\")"
   ]
  },
  {
   "cell_type": "code",
   "execution_count": null,
   "id": "b1daf027",
   "metadata": {},
   "outputs": [],
   "source": [
    "months=list({'Jan':1,'Feb':2,'Mar':3,'Apr':4,\n",
    "            'May':5,'Jun':6,'Jul':7,'Aug':8,\n",
    "            'Sep':9,'Oct':10,'Nov':11,'Dec':12,\"Missing\":-1}.keys())\n",
    "months"
   ]
  },
  {
   "cell_type": "code",
   "execution_count": null,
   "id": "917d729d",
   "metadata": {},
   "outputs": [],
   "source": [
    "temp=sub_df\n",
    "temp=temp[1800<temp.Year][[\"Months\",\"fatal\"]].groupby(by=\"Months\").count().reset_index(drop=False)\n",
    "temp"
   ]
  },
  {
   "cell_type": "code",
   "execution_count": null,
   "id": "1cdf1595",
   "metadata": {},
   "outputs": [],
   "source": [
    "fig,ax=plt.subplots(figsize=(20,12))\n",
    "sns.countplot(data=sub_df,x=\"Months\",hue=\"fatal\",ax=ax, order=months)\n",
    "#xticks=ax.set_xticks(x+width,months)"
   ]
  },
  {
   "cell_type": "markdown",
   "id": "8fec9521",
   "metadata": {},
   "source": [
    "##  plot Age et sex"
   ]
  },
  {
   "cell_type": "code",
   "execution_count": null,
   "id": "0523206f",
   "metadata": {},
   "outputs": [],
   "source": [
    "\n",
    "#Male\n",
    "temp=sub_df\n",
    "temp[\"Age\"]=temp[\"Age\"].apply(convert_str_to_float).copy()\n",
    "\n",
    "temp=temp[temp.Sex==\"Male\"][[\"Age\",\"fatal\"]].groupby(by=\"Age\").count().reset_index(drop=False)\n",
    "temp1=temp[0<temp.Age]\n",
    "\n",
    "#Female\n",
    "temp=sub_df\n",
    "temp[\"Age\"]=temp[\"Age\"].apply(convert_str_to_float).copy()\n",
    "temp=temp[temp.Sex==\"Female\"][[\"Age\",\"fatal\"]].groupby(by=\"Age\").count().reset_index(drop=False)\n",
    "temp2=temp[0<temp.Age]"
   ]
  },
  {
   "cell_type": "code",
   "execution_count": null,
   "id": "58aa6e55",
   "metadata": {},
   "outputs": [],
   "source": [
    "fig=plt.figure(figsize=(20,12))\n",
    "plt.plot(temp1.Age,temp1.fatal,color=\"r\")\n",
    "plt.plot(temp2.Age,temp2.fatal,color=\"b\")\n",
    "plt.legend([\"Male\",\"Female\"])\n",
    "plt.xlabel(\"Age\")\n",
    "plt.ylabel(\"Count\")"
   ]
  },
  {
   "cell_type": "markdown",
   "id": "b17cca75",
   "metadata": {},
   "source": [
    "## plot female and male"
   ]
  },
  {
   "cell_type": "code",
   "execution_count": null,
   "id": "1a5e7980",
   "metadata": {},
   "outputs": [],
   "source": [
    "#Male\n",
    "temp=sub_df\n",
    "temp[\"Year\"]=temp[\"Year\"].apply(convert_str_to_float).copy()\n",
    "\n",
    "temp=temp[temp.Sex==\"Male\"][[\"Year\",\"fatal\"]].groupby(by=\"Year\").count().reset_index(drop=False)\n",
    "temp1=temp[1800<temp.Year]\n",
    "\n",
    "#Female\n",
    "temp=sub_df\n",
    "temp[\"Year\"]=temp[\"Year\"].apply(convert_str_to_float).copy()\n",
    "temp=temp[temp.Sex==\"Female\"][[\"Year\",\"fatal\"]].groupby(by=\"Year\").count().reset_index(drop=False)\n",
    "temp2=temp[1800<temp.Year]"
   ]
  },
  {
   "cell_type": "code",
   "execution_count": null,
   "id": "8526b2e3",
   "metadata": {},
   "outputs": [],
   "source": [
    "temp=sub_df\n",
    "temp[\"Year\"]=temp[\"Year\"].apply(convert_str_to_float).copy()\n",
    "\n",
    "temp=temp[temp.fatal==\"Dead\"][[\"Year\",\"fatal\"]].groupby(by=\"Year\").count().reset_index(drop=False)\n",
    "temp=temp[1800<temp.Year]"
   ]
  },
  {
   "cell_type": "code",
   "execution_count": null,
   "id": "0991f6fd",
   "metadata": {},
   "outputs": [],
   "source": [
    "sum(temp.fatal)"
   ]
  },
  {
   "cell_type": "code",
   "execution_count": null,
   "id": "36fd749f",
   "metadata": {},
   "outputs": [],
   "source": [
    "#Numbre of attack\n",
    "sum(temp1.fatal)+sum(temp2.fatal)"
   ]
  },
  {
   "cell_type": "code",
   "execution_count": null,
   "id": "f57356f3",
   "metadata": {},
   "outputs": [],
   "source": [
    "fig=plt.figure(figsize=(20,12))\n",
    "plt.plot(temp1.Year,temp1.fatal,color=\"r\")\n",
    "plt.plot(temp2.Year,temp2.fatal,color=\"b\")\n",
    "plt.legend([\"Male\",\"Female\"])\n",
    "plt.xlabel(\"Year\")\n",
    "plt.ylabel(\"Count\")"
   ]
  },
  {
   "cell_type": "code",
   "execution_count": null,
   "id": "2042ae2b",
   "metadata": {},
   "outputs": [],
   "source": [
    "fig=plt.figure(figsize=(20,12))\n",
    "sns.histplot(data=sub_df,y=\"Sex\",hue=\"fatal\",multiple=\"stack\",binwidth=5)"
   ]
  },
  {
   "cell_type": "markdown",
   "id": "59f77a63",
   "metadata": {},
   "source": [
    "## plot location : Country and area"
   ]
  },
  {
   "cell_type": "code",
   "execution_count": null,
   "id": "7d3c58d0",
   "metadata": {},
   "outputs": [],
   "source": [
    "temp=sub_df\n",
    "temp=temp[[\"Country\",\"fatal\"]].groupby(by=\"Country\").count().reset_index(drop=False).sort_values(by=\"fatal\",ascending=False)\n",
    "temp=temp[100<temp.fatal].rename(columns={\"fatal\":\"Count\"})\n",
    "temp"
   ]
  },
  {
   "cell_type": "code",
   "execution_count": null,
   "id": "dd3e281f",
   "metadata": {},
   "outputs": [],
   "source": [
    "fig=plt.figure(figsize=(25,12))\n",
    "sns.barplot(data=temp, x=\"Country\",y=\"Count\")"
   ]
  },
  {
   "cell_type": "code",
   "execution_count": null,
   "id": "4e7fd7d0",
   "metadata": {},
   "outputs": [],
   "source": [
    "temp=sub_df\n",
    "temp=temp[[\"Area\",\"fatal\"]].groupby(by=\"Area\").count().reset_index(drop=False).sort_values(by=\"fatal\",ascending=False)\n",
    "temp=temp[100<temp.fatal]\n",
    "temp=temp.drop(462)\n",
    "temp"
   ]
  },
  {
   "cell_type": "code",
   "execution_count": null,
   "id": "f7d44ad2",
   "metadata": {},
   "outputs": [],
   "source": [
    "fig=plt.figure(figsize=(25,12))\n",
    "sns.barplot(data=temp, y=\"Area\",x=\"fatal\")"
   ]
  },
  {
   "cell_type": "markdown",
   "id": "71095edf",
   "metadata": {},
   "source": [
    "## plot Activity species and type"
   ]
  },
  {
   "cell_type": "code",
   "execution_count": null,
   "id": "69e06598",
   "metadata": {},
   "outputs": [],
   "source": [
    "temp=sub_df\n",
    "temp=temp[[\"Species\",\"fatal\"]].groupby(by=\"Species\").count().reset_index(drop=False).sort_values(by=\"fatal\",ascending=True)\n",
    "temp=temp[(21<temp.fatal) & (temp.fatal<500)]\n",
    "temp.shape"
   ]
  },
  {
   "cell_type": "code",
   "execution_count": null,
   "id": "23532de5",
   "metadata": {},
   "outputs": [],
   "source": [
    "fig=plt.figure(figsize=(25,12))\n",
    "sns.barplot(data=temp, y=\"Species\",x=\"fatal\")"
   ]
  },
  {
   "cell_type": "code",
   "execution_count": null,
   "id": "4f291976",
   "metadata": {},
   "outputs": [],
   "source": [
    "# creating an empty chart \n",
    "fig, ax= plt.subplots(figsize=(25,12)) \n",
    "# plotting using plt.stem \n",
    "ax.stem(temp['Species'], temp['fatal'], orientation='horizontal', basefmt=' ')\n",
    "plt.xlabel(\"Count\")\n",
    "plt.ylabel(\"Species\")"
   ]
  },
  {
   "cell_type": "code",
   "execution_count": null,
   "id": "b1f19874",
   "metadata": {},
   "outputs": [],
   "source": [
    "temp=sub_df\n",
    "temp=temp[[\"Activity\",\"fatal\"]].groupby(by=\"Activity\").count().reset_index(drop=False).sort_values(by=\"fatal\",ascending=False)\n",
    "temp=temp[90<temp.fatal]\n",
    "temp"
   ]
  },
  {
   "cell_type": "code",
   "execution_count": null,
   "id": "e4c79b51",
   "metadata": {},
   "outputs": [],
   "source": [
    "fig=plt.figure(figsize=(25,12))\n",
    "sns.barplot(data=temp, y=\"Activity\",x=\"fatal\")"
   ]
  },
  {
   "cell_type": "code",
   "execution_count": null,
   "id": "5ce23756",
   "metadata": {},
   "outputs": [],
   "source": [
    "temp=sub_df\n",
    "temp=temp[[\"Type\",\"fatal\"]].groupby(by=\"Type\").count().reset_index(drop=False).sort_values(by=\"fatal\",ascending=False)\n",
    "temp=temp[10<temp.fatal]\n",
    "temp"
   ]
  },
  {
   "cell_type": "code",
   "execution_count": null,
   "id": "9e6266c6",
   "metadata": {},
   "outputs": [],
   "source": [
    "fig=plt.figure(figsize=(25,12))\n",
    "sns.barplot(data=temp, y=\"Type\",x=\"fatal\")"
   ]
  },
  {
   "cell_type": "markdown",
   "id": "7f7e6a8e",
   "metadata": {},
   "source": [
    "## high dimension"
   ]
  },
  {
   "cell_type": "code",
   "execution_count": null,
   "id": "a1e646e9",
   "metadata": {},
   "outputs": [],
   "source": [
    "from sklearn.preprocessing import LabelEncoder"
   ]
  },
  {
   "cell_type": "code",
   "execution_count": null,
   "id": "e352068d",
   "metadata": {},
   "outputs": [],
   "source": [
    "# Create an instance of LabelEncoder\n",
    "le = LabelEncoder()"
   ]
  },
  {
   "cell_type": "markdown",
   "id": "547f1244",
   "metadata": {},
   "source": [
    "## Type"
   ]
  },
  {
   "cell_type": "code",
   "execution_count": null,
   "id": "fdba0b17",
   "metadata": {},
   "outputs": [],
   "source": [
    "temp=sub_df\n",
    "temp[\"Year\"]=temp[\"Year\"].apply(convert_str_to_float).copy()\n",
    "temp[\"Age\"]=temp[\"Age\"].apply(convert_str_to_float).copy()\n",
    "temp=temp[[\"Activity\",\"Type\",\"Year\",\"fatal\",\"Age\"]]\n",
    "mask=(1900<temp.Year) &(temp.Year<2019) & (0<temp.Age)\n",
    "temp=temp[mask]\n"
   ]
  },
  {
   "cell_type": "code",
   "execution_count": null,
   "id": "b13e2124",
   "metadata": {},
   "outputs": [],
   "source": [
    "fig, ax = plt.subplots(figsize=(25,12))\n",
    "sns.scatterplot(data=temp,x=\"Year\", y=\"Age\", hue=\"Type\",legend='auto',s=100,ax=ax)\n",
    "plt.show()"
   ]
  }
 ],
 "metadata": {
  "kernelspec": {
   "display_name": "Python 3 (ipykernel)",
   "language": "python",
   "name": "python3"
  },
  "language_info": {
   "codemirror_mode": {
    "name": "ipython",
    "version": 3
   },
   "file_extension": ".py",
   "mimetype": "text/x-python",
   "name": "python",
   "nbconvert_exporter": "python",
   "pygments_lexer": "ipython3",
   "version": "3.11.5"
  }
 },
 "nbformat": 4,
 "nbformat_minor": 5
}
